{
  "cells": [
    {
      "cell_type": "markdown",
      "metadata": {
        "id": "Kwx2dxZeFHDX"
      },
      "source": [
        "# Amazon Fine Food Reviews - Building a Co-review graph\n",
        "\n",
        "In this lab, our general goal is to conduct some exploratory analysis of a medium - large dataset, namely, Amazon Fine Food Reviews, available from a [Kaggle Competition](https://www.kaggle.com/datasets/snap/amazon-fine-food-reviews).\n",
        "\n",
        "Our general goals are the following:\n",
        "\n",
        "- Retrieve the dataset and upload it onto Colab;\n",
        "- Build the associated Co-review graph."
      ]
    },
    {
      "cell_type": "markdown",
      "metadata": {
        "id": "dZX0TppG5IPa"
      },
      "source": [
        "## Retrieving the dataset\n",
        "To retrieve this dataset, we need to be registered Kaggle users. Assuming this is the case, we basically have two options:\n",
        "\n",
        "1. Download the dataset locally. This can be useful if you want to keep a copy of the data to work with directly on your machine. In this case, you will have to upload the data on Colab in order to work with it. There are several ways to do this, described [here](https://colab.research.google.com/notebooks/io.ipynb). Note that our compressed dataset is about 300MB's and proceeding this way may take some time, depending on your connection.\n",
        "2. Transferring the data directly from Kaggle to Google. In my experience, this was extremely fast and it is the method I am going to use.\n",
        "\n",
        "A nice review of all available methods, including the one I am using, can be found [here](https://towardsdatascience.com/7-ways-to-load-external-data-into-google-colab-7ba73e7d5fc7)."
      ]
    },
    {
      "cell_type": "markdown",
      "metadata": {
        "id": "9fpG9wnlFHDb"
      },
      "source": [
        "### Transferring dataset from Google to Colab\n",
        "Go to your profile on Kaggle, then ```Account --> Create New API Token``` (you do not have to do every time you run your notebook). The result will be a file called ```kaggle.json```, which you save on your machine. Next, we upload this file to Google Colab as follows:"
      ]
    },
    {
      "cell_type": "code",
      "execution_count": null,
      "metadata": {
        "colab": {
          "base_uri": "https://localhost:8080/",
          "height": 73
        },
        "id": "WDFBCfveFJ9E",
        "outputId": "8ef7fc79-d130-4df6-a6c3-30faf36882b4"
      },
      "outputs": [
        {
          "data": {
            "text/html": [
              "\n",
              "     <input type=\"file\" id=\"files-56aad049-819b-4f2e-a2d6-338385e2a21b\" name=\"files[]\" multiple disabled\n",
              "        style=\"border:none\" />\n",
              "     <output id=\"result-56aad049-819b-4f2e-a2d6-338385e2a21b\">\n",
              "      Upload widget is only available when the cell has been executed in the\n",
              "      current browser session. Please rerun this cell to enable.\n",
              "      </output>\n",
              "      <script>// Copyright 2017 Google LLC\n",
              "//\n",
              "// Licensed under the Apache License, Version 2.0 (the \"License\");\n",
              "// you may not use this file except in compliance with the License.\n",
              "// You may obtain a copy of the License at\n",
              "//\n",
              "//      http://www.apache.org/licenses/LICENSE-2.0\n",
              "//\n",
              "// Unless required by applicable law or agreed to in writing, software\n",
              "// distributed under the License is distributed on an \"AS IS\" BASIS,\n",
              "// WITHOUT WARRANTIES OR CONDITIONS OF ANY KIND, either express or implied.\n",
              "// See the License for the specific language governing permissions and\n",
              "// limitations under the License.\n",
              "\n",
              "/**\n",
              " * @fileoverview Helpers for google.colab Python module.\n",
              " */\n",
              "(function(scope) {\n",
              "function span(text, styleAttributes = {}) {\n",
              "  const element = document.createElement('span');\n",
              "  element.textContent = text;\n",
              "  for (const key of Object.keys(styleAttributes)) {\n",
              "    element.style[key] = styleAttributes[key];\n",
              "  }\n",
              "  return element;\n",
              "}\n",
              "\n",
              "// Max number of bytes which will be uploaded at a time.\n",
              "const MAX_PAYLOAD_SIZE = 100 * 1024;\n",
              "\n",
              "function _uploadFiles(inputId, outputId) {\n",
              "  const steps = uploadFilesStep(inputId, outputId);\n",
              "  const outputElement = document.getElementById(outputId);\n",
              "  // Cache steps on the outputElement to make it available for the next call\n",
              "  // to uploadFilesContinue from Python.\n",
              "  outputElement.steps = steps;\n",
              "\n",
              "  return _uploadFilesContinue(outputId);\n",
              "}\n",
              "\n",
              "// This is roughly an async generator (not supported in the browser yet),\n",
              "// where there are multiple asynchronous steps and the Python side is going\n",
              "// to poll for completion of each step.\n",
              "// This uses a Promise to block the python side on completion of each step,\n",
              "// then passes the result of the previous step as the input to the next step.\n",
              "function _uploadFilesContinue(outputId) {\n",
              "  const outputElement = document.getElementById(outputId);\n",
              "  const steps = outputElement.steps;\n",
              "\n",
              "  const next = steps.next(outputElement.lastPromiseValue);\n",
              "  return Promise.resolve(next.value.promise).then((value) => {\n",
              "    // Cache the last promise value to make it available to the next\n",
              "    // step of the generator.\n",
              "    outputElement.lastPromiseValue = value;\n",
              "    return next.value.response;\n",
              "  });\n",
              "}\n",
              "\n",
              "/**\n",
              " * Generator function which is called between each async step of the upload\n",
              " * process.\n",
              " * @param {string} inputId Element ID of the input file picker element.\n",
              " * @param {string} outputId Element ID of the output display.\n",
              " * @return {!Iterable<!Object>} Iterable of next steps.\n",
              " */\n",
              "function* uploadFilesStep(inputId, outputId) {\n",
              "  const inputElement = document.getElementById(inputId);\n",
              "  inputElement.disabled = false;\n",
              "\n",
              "  const outputElement = document.getElementById(outputId);\n",
              "  outputElement.innerHTML = '';\n",
              "\n",
              "  const pickedPromise = new Promise((resolve) => {\n",
              "    inputElement.addEventListener('change', (e) => {\n",
              "      resolve(e.target.files);\n",
              "    });\n",
              "  });\n",
              "\n",
              "  const cancel = document.createElement('button');\n",
              "  inputElement.parentElement.appendChild(cancel);\n",
              "  cancel.textContent = 'Cancel upload';\n",
              "  const cancelPromise = new Promise((resolve) => {\n",
              "    cancel.onclick = () => {\n",
              "      resolve(null);\n",
              "    };\n",
              "  });\n",
              "\n",
              "  // Wait for the user to pick the files.\n",
              "  const files = yield {\n",
              "    promise: Promise.race([pickedPromise, cancelPromise]),\n",
              "    response: {\n",
              "      action: 'starting',\n",
              "    }\n",
              "  };\n",
              "\n",
              "  cancel.remove();\n",
              "\n",
              "  // Disable the input element since further picks are not allowed.\n",
              "  inputElement.disabled = true;\n",
              "\n",
              "  if (!files) {\n",
              "    return {\n",
              "      response: {\n",
              "        action: 'complete',\n",
              "      }\n",
              "    };\n",
              "  }\n",
              "\n",
              "  for (const file of files) {\n",
              "    const li = document.createElement('li');\n",
              "    li.append(span(file.name, {fontWeight: 'bold'}));\n",
              "    li.append(span(\n",
              "        `(${file.type || 'n/a'}) - ${file.size} bytes, ` +\n",
              "        `last modified: ${\n",
              "            file.lastModifiedDate ? file.lastModifiedDate.toLocaleDateString() :\n",
              "                                    'n/a'} - `));\n",
              "    const percent = span('0% done');\n",
              "    li.appendChild(percent);\n",
              "\n",
              "    outputElement.appendChild(li);\n",
              "\n",
              "    const fileDataPromise = new Promise((resolve) => {\n",
              "      const reader = new FileReader();\n",
              "      reader.onload = (e) => {\n",
              "        resolve(e.target.result);\n",
              "      };\n",
              "      reader.readAsArrayBuffer(file);\n",
              "    });\n",
              "    // Wait for the data to be ready.\n",
              "    let fileData = yield {\n",
              "      promise: fileDataPromise,\n",
              "      response: {\n",
              "        action: 'continue',\n",
              "      }\n",
              "    };\n",
              "\n",
              "    // Use a chunked sending to avoid message size limits. See b/62115660.\n",
              "    let position = 0;\n",
              "    do {\n",
              "      const length = Math.min(fileData.byteLength - position, MAX_PAYLOAD_SIZE);\n",
              "      const chunk = new Uint8Array(fileData, position, length);\n",
              "      position += length;\n",
              "\n",
              "      const base64 = btoa(String.fromCharCode.apply(null, chunk));\n",
              "      yield {\n",
              "        response: {\n",
              "          action: 'append',\n",
              "          file: file.name,\n",
              "          data: base64,\n",
              "        },\n",
              "      };\n",
              "\n",
              "      let percentDone = fileData.byteLength === 0 ?\n",
              "          100 :\n",
              "          Math.round((position / fileData.byteLength) * 100);\n",
              "      percent.textContent = `${percentDone}% done`;\n",
              "\n",
              "    } while (position < fileData.byteLength);\n",
              "  }\n",
              "\n",
              "  // All done.\n",
              "  yield {\n",
              "    response: {\n",
              "      action: 'complete',\n",
              "    }\n",
              "  };\n",
              "}\n",
              "\n",
              "scope.google = scope.google || {};\n",
              "scope.google.colab = scope.google.colab || {};\n",
              "scope.google.colab._files = {\n",
              "  _uploadFiles,\n",
              "  _uploadFilesContinue,\n",
              "};\n",
              "})(self);\n",
              "</script> "
            ],
            "text/plain": [
              "<IPython.core.display.HTML object>"
            ]
          },
          "metadata": {},
          "output_type": "display_data"
        },
        {
          "name": "stdout",
          "output_type": "stream",
          "text": [
            "Saving kaggle.json to kaggle.json\n"
          ]
        }
      ],
      "source": [
        "from google.colab import files\n",
        "\n",
        "uploaded = files.upload()"
      ]
    },
    {
      "cell_type": "markdown",
      "metadata": {
        "id": "1gva-K-KMMOo"
      },
      "source": [
        "We next specify the above directory as the one to upload the Kaggle dataset to:"
      ]
    },
    {
      "cell_type": "code",
      "execution_count": null,
      "metadata": {
        "id": "Fyhf0yW9RTNJ"
      },
      "outputs": [],
      "source": [
        "import os\n",
        "os.environ['KAGGLE_CONFIG_DIR'] = \"/content\""
      ]
    },
    {
      "cell_type": "markdown",
      "metadata": {
        "id": "1BSNVBmRMnAU"
      },
      "source": [
        "Next, we need to upload the dataset, issuing the necessary shell command. To do this, we can let Kaggle generate the right command for us. This is done from the Kaggle competion's Web page, in the top-right menu, clicking on the dots and then selecting ```Copy API Command``` as shown in the picture below:\n",
        "\n",
        "![Fig1.png](data:image/png;base64,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)"
      ]
    },
    {
      "cell_type": "markdown",
      "metadata": {
        "id": "Et0s4k1IN7z1"
      },
      "source": [
        "The copy-pasted command is the one shown below:"
      ]
    },
    {
      "cell_type": "code",
      "execution_count": null,
      "metadata": {
        "colab": {
          "base_uri": "https://localhost:8080/"
        },
        "id": "P9bljXyiRnPL",
        "outputId": "798c4531-c36c-454d-f1c9-254e917cffab"
      },
      "outputs": [
        {
          "name": "stdout",
          "output_type": "stream",
          "text": [
            "Warning: Your Kaggle API key is readable by other users on this system! To fix this, you can run 'chmod 600 /content/kaggle.json'\n",
            "Downloading amazon-fine-food-reviews.zip to /content\n",
            " 96% 233M/242M [00:01<00:00, 186MB/s]\n",
            "100% 242M/242M [00:01<00:00, 201MB/s]\n"
          ]
        }
      ],
      "source": [
        "!kaggle datasets download -d snap/amazon-fine-food-reviews"
      ]
    },
    {
      "cell_type": "code",
      "execution_count": null,
      "metadata": {
        "id": "30CgybvgXm1p"
      },
      "outputs": [],
      "source": [
        "!chmod 600 /content/kaggle.json"
      ]
    },
    {
      "cell_type": "markdown",
      "metadata": {
        "id": "WYbgI1ucSL-Q"
      },
      "source": [
        "We next check that everything is there:"
      ]
    },
    {
      "cell_type": "code",
      "execution_count": null,
      "metadata": {
        "colab": {
          "base_uri": "https://localhost:8080/"
        },
        "id": "OuPVThsHQSQg",
        "outputId": "a7d8a3db-d5fa-4810-d3f2-d75f5534cd81"
      },
      "outputs": [
        {
          "name": "stdout",
          "output_type": "stream",
          "text": [
            "amazon-fine-food-reviews.zip  kaggle.json  sample_data\n"
          ]
        }
      ],
      "source": [
        "!ls"
      ]
    },
    {
      "cell_type": "markdown",
      "metadata": {
        "id": "ZdCryH7aSUKG"
      },
      "source": [
        "We now extract the files from the zipper archive. To this purpose, we use Python zipfile utility package:"
      ]
    },
    {
      "cell_type": "code",
      "execution_count": null,
      "metadata": {
        "id": "ohKzn4VdSalc"
      },
      "outputs": [],
      "source": [
        "from zipfile import ZipFile"
      ]
    },
    {
      "cell_type": "code",
      "execution_count": null,
      "metadata": {
        "id": "xxvYTKkaS7gJ"
      },
      "outputs": [],
      "source": [
        "# Create a ZipFile Object and load sample.zip in it\n",
        "with ZipFile('amazon-fine-food-reviews.zip', 'r') as zipObj:\n",
        "   # Extract all the contents of zip file in current directory\n",
        "   zipObj.extractall()"
      ]
    },
    {
      "cell_type": "markdown",
      "metadata": {
        "id": "qhp1WWg-SqeQ"
      },
      "source": [
        "Let's check what files are there (we are looking for ```Reviews.csv```)"
      ]
    },
    {
      "cell_type": "code",
      "execution_count": null,
      "metadata": {
        "colab": {
          "base_uri": "https://localhost:8080/"
        },
        "id": "sW7F3_W3SyY6",
        "outputId": "41cf8e5d-161a-403a-ee90-354637b21d0e"
      },
      "outputs": [
        {
          "name": "stdout",
          "output_type": "stream",
          "text": [
            "amazon-fine-food-reviews.zip  database.sqlite  hashes.txt  kaggle.json\tReviews.csv  sample_data\n"
          ]
        }
      ],
      "source": [
        "!ls"
      ]
    },
    {
      "cell_type": "markdown",
      "metadata": {
        "id": "QMNo1hbRS09-"
      },
      "source": [
        "There it is. Let us just perform a check that the file looks like it is supposed to be, by having a glance at the first 10 lines:"
      ]
    },
    {
      "cell_type": "code",
      "execution_count": null,
      "metadata": {
        "colab": {
          "base_uri": "https://localhost:8080/"
        },
        "id": "qpLCBLwoV8jo",
        "outputId": "9651c790-046d-4136-b396-a1339f8da7b6"
      },
      "outputs": [
        {
          "name": "stdout",
          "output_type": "stream",
          "text": [
            "Id,ProductId,UserId,ProfileName,HelpfulnessNumerator,HelpfulnessDenominator,Score,Time,Summary,Text\n",
            "1,B001E4KFG0,A3SGXH7AUHU8GW,delmartian,1,1,5,1303862400,Good Quality Dog Food,I have bought several of the Vitality canned dog food products and have found them all to be of good quality. The product looks more like a stew than a processed meat and it smells better. My Labrador is finicky and she appreciates this product better than  most.\n",
            "2,B00813GRG4,A1D87F6ZCVE5NK,dll pa,0,0,1,1346976000,Not as Advertised,\"Product arrived labeled as Jumbo Salted Peanuts...the peanuts were actually small sized unsalted. Not sure if this was an error or if the vendor intended to represent the product as \"\"Jumbo\"\".\"\n",
            "3,B000LQOCH0,ABXLMWJIXXAIN,\"Natalia Corres \"\"Natalia Corres\"\"\",1,1,4,1219017600,\"\"\"Delight\"\" says it all\",\"This is a confection that has been around a few centuries.  It is a light, pillowy citrus gelatin with nuts - in this case Filberts. And it is cut into tiny squares and then liberally coated with powdered sugar.  And it is a tiny mouthful of heaven.  Not too chewy, and very flavorful.  I highly recommend this yummy treat.  If you are familiar with the story of C.S. Lewis' \"\"The Lion, The Witch, and The Wardrobe\"\" - this is the treat that seduces Edmund into selling out his Brother and Sisters to the Witch.\"\n",
            "4,B000UA0QIQ,A395BORC6FGVXV,Karl,3,3,2,1307923200,Cough Medicine,If you are looking for the secret ingredient in Robitussin I believe I have found it.  I got this in addition to the Root Beer Extract I ordered (which was good) and made some cherry soda.  The flavor is very medicinal.\n",
            "5,B006K2ZZ7K,A1UQRSCLF8GW1T,\"Michael D. Bigham \"\"M. Wassir\"\"\",0,0,5,1350777600,Great taffy,\"Great taffy at a great price.  There was a wide assortment of yummy taffy.  Delivery was very quick.  If your a taffy lover, this is a deal.\"\n",
            "6,B006K2ZZ7K,ADT0SRK1MGOEU,Twoapennything,0,0,4,1342051200,Nice Taffy,\"I got a wild hair for taffy and ordered this five pound bag. The taffy was all very enjoyable with many flavors: watermelon, root beer, melon, peppermint, grape, etc. My only complaint is there was a bit too much red/black licorice-flavored pieces (just not my particular favorites). Between me, my kids, and my husband, this lasted only two weeks! I would recommend this brand of taffy -- it was a delightful treat.\"\n",
            "7,B006K2ZZ7K,A1SP2KVKFXXRU1,David C. Sullivan,0,0,5,1340150400,Great!  Just as good as the expensive brands!,\"This saltwater taffy had great flavors and was very soft and chewy.  Each candy was individually wrapped well.  None of the candies were stuck together, which did happen in the expensive version, Fralinger's.  Would highly recommend this candy!  I served it at a beach-themed party and everyone loved it!\"\n",
            "8,B006K2ZZ7K,A3JRGQVEQN31IQ,Pamela G. Williams,0,0,5,1336003200,\"Wonderful, tasty taffy\",This taffy is so good.  It is very soft and chewy.  The flavors are amazing.  I would definitely recommend you buying it.  Very satisfying!!\n",
            "9,B000E7L2R4,A1MZYO9TZK0BBI,R. James,1,1,5,1322006400,Yay Barley,Right now I'm mostly just sprouting this so my cats can eat the grass. They love it. I rotate it around with Wheatgrass and Rye too\n"
          ]
        }
      ],
      "source": [
        "!head -10 Reviews.csv"
      ]
    },
    {
      "cell_type": "markdown",
      "metadata": {
        "id": "dFUNyY6GWbv5"
      },
      "source": [
        "Keeping roughly $10\\%$ of the users for testing purposes. We will see why doing this is reasonable further in the course. For now, try to understand how ```sample_users``` works and why it does the job."
      ]
    },
    {
      "cell_type": "code",
      "execution_count": null,
      "metadata": {
        "id": "f1L04Je1Pj9p"
      },
      "outputs": [],
      "source": [
        "# Given a Pandas frame raw_pd, save lines corresponding to approximately 10% of the users to file fout\n",
        "# Note that all lines corresponding to sampled users are saved to fout\n",
        "\n",
        "import pandas as pd\n",
        "\n",
        "def sample_users(raw_pd, rate, buckets, fout):\n",
        "  for index, row in raw_pd.iterrows():\n",
        "    if (hash(row[\"UserId\"])%buckets < rate):\n",
        "      # Save this line to fout\n",
        "      fout.write(row.to_csv(index=False))\n",
        "\n",
        "\n",
        "sampled_file = \"Reviews_sampled.csv\"\n",
        "rate = 10 # 10% of users\n",
        "buckets = 100\n",
        "\n",
        "fout = open(sampled_file, \"w\")\n",
        "raw_pd = pd.read_csv('Reviews.csv')\n",
        "sample_users(raw_pd, rate, buckets, fout)\n",
        "fout.close()"
      ]
    },
    {
      "cell_type": "markdown",
      "metadata": {
        "id": "ylVazsxzxx8Q"
      },
      "source": [
        "_______________________________________________________"
      ]
    },
    {
      "cell_type": "markdown",
      "metadata": {
        "id": "-fWNLGhmMkjO"
      },
      "source": [
        "# Assignment 1"
      ]
    },
    {
      "cell_type": "markdown",
      "metadata": {
        "id": "kNkIVRB19lPF"
      },
      "source": [
        "First of all we have to install PySpark and import the needed modules"
      ]
    },
    {
      "cell_type": "code",
      "execution_count": null,
      "metadata": {
        "colab": {
          "base_uri": "https://localhost:8080/"
        },
        "id": "NFH1SHCQxzIa",
        "outputId": "56dc3316-b2b1-45b1-914c-6cfedf5e6aa6"
      },
      "outputs": [
        {
          "name": "stdout",
          "output_type": "stream",
          "text": [
            "Collecting pyspark\n",
            "  Downloading pyspark-3.5.0.tar.gz (316.9 MB)\n",
            "\u001b[2K     \u001b[90m━━━━━━━━━━━━━━━━━━━━━━━━━━━━━━━━━━━━━━━━\u001b[0m \u001b[32m316.9/316.9 MB\u001b[0m \u001b[31m4.7 MB/s\u001b[0m eta \u001b[36m0:00:00\u001b[0m\n",
            "\u001b[?25h  Preparing metadata (setup.py) ... \u001b[?25l\u001b[?25hdone\n",
            "Requirement already satisfied: py4j==0.10.9.7 in /usr/local/lib/python3.10/dist-packages (from pyspark) (0.10.9.7)\n",
            "Building wheels for collected packages: pyspark\n",
            "  Building wheel for pyspark (setup.py) ... \u001b[?25l\u001b[?25hdone\n",
            "  Created wheel for pyspark: filename=pyspark-3.5.0-py2.py3-none-any.whl size=317425344 sha256=fe961a9ef4fa6908974bdefb0a1afdc19bdd60caebcc01504699d4ecc3189493\n",
            "  Stored in directory: /root/.cache/pip/wheels/41/4e/10/c2cf2467f71c678cfc8a6b9ac9241e5e44a01940da8fbb17fc\n",
            "Successfully built pyspark\n",
            "Installing collected packages: pyspark\n",
            "Successfully installed pyspark-3.5.0\n"
          ]
        }
      ],
      "source": [
        "!pip install pyspark"
      ]
    },
    {
      "cell_type": "code",
      "execution_count": null,
      "metadata": {
        "id": "B2cODWNVx1hM"
      },
      "outputs": [],
      "source": [
        "import sys\n",
        "from pyspark import SparkContext, SparkConf"
      ]
    },
    {
      "cell_type": "markdown",
      "metadata": {
        "id": "rg18BIxB9tuI"
      },
      "source": [
        "The pipeline I designed is based on many steps:\n",
        "+ First of all initializing the RDD file I read the .csv as a text file, so I need to filter out the very first row being the header;\n",
        "+ *First MapReduce block*:\n",
        "  + Then I have to format each row to collect the data we are interested to, retrieving tuples in the form ```(productID, userID)```: this is done with a ```map``` call on a ```formatting``` subroutine;\n",
        "  + Now an aggregation step: calling ```groupByKey``` and casting the outputs to lists we collected all the users that reviewd a product, and now we have tuples in the form ```(productID, [userID1, userID2, ...])```\n",
        "  + Before proceding we filter out all the products having just one review.\n",
        "+ *Second MapReduce block*:\n",
        "  + Now with a ```neighboursMapper``` subroutine based on ```itertools.combination``` we extract from each of the list within each tuple all the pairs of distinct users: we make it on all the RDD and flatten in a single list of tuples through a ```flattenMap``` call, emitting tuples in the format ```((user1,user2),1)```;\n",
        "  + We can now aggregate: every pair of users is a key. We do it through a ```combineByKey``` call that is more efficient than a simple ```reduceByKey``` call, since the former works locally on each mapper and then aggregates globally. The inner function is just an \"add primitive\", since thorugh summing all the values having the same key we get the number of products that pair of users coreviewed, but for ```combineByKey``` we actually need three inner subroutines:\n",
        "    + ```createCombiner``` initialize a local aggregator each time a new key is seen;\n",
        "    + ```mergeValue``` works as a local aggregator within the mapper;\n",
        "    + ```mergeCombiners``` works as a global aggregator throughout the mappers;\n",
        "+ *Third MapReduce block*:\n",
        "  + We now have tuples in the form ```((user1,user2),coreviewedCount)```: through a map call we emit tuple in the form ```(user1,(user2,coreviewedCount))```;\n",
        "  + Finally we ```groupByKey``` and cast the result as a list, obtaining for each user a tuple like ```(user, [(user1, coreviewedCount1),(user2, coreviewedCount2),...])```."
      ]
    },
    {
      "cell_type": "markdown",
      "metadata": {},
      "source": [
        "The whole pipeline can be performed in approximately 5 minutes on Colab. "
      ]
    },
    {
      "cell_type": "code",
      "execution_count": null,
      "metadata": {
        "id": "kVSaJvyyyKPA"
      },
      "outputs": [],
      "source": [
        "conf = SparkConf().setAppName(\"CoReviewGraphBuilder\").setMaster(\"local\")\n",
        "sc = SparkContext(conf=conf)\n",
        "\n",
        "file_in = \"Reviews.csv\"\n",
        "f = sc.textFile(file_in)\n",
        "file_out = \"adjList.txt\""
      ]
    },
    {
      "cell_type": "code",
      "execution_count": null,
      "metadata": {
        "id": "XPcCPEKcCN92"
      },
      "outputs": [],
      "source": [
        "#EMERGENCY STOP - Run to reinitialize the SparkContext if something doesn't work\n",
        "sc.stop()"
      ]
    },
    {
      "cell_type": "markdown",
      "metadata": {},
      "source": [
        "### First MapReduce block"
      ]
    },
    {
      "cell_type": "code",
      "execution_count": null,
      "metadata": {
        "id": "3MBxvRHBRzFg"
      },
      "outputs": [],
      "source": [
        " # Filtering out the header from the RDD file\n",
        "\n",
        "header = f.first()\n",
        "f = f.filter(lambda row: row != header)"
      ]
    },
    {
      "cell_type": "code",
      "execution_count": null,
      "metadata": {
        "id": "XnRSE8y7TPyl"
      },
      "outputs": [],
      "source": [
        "# For each row we only need (ProductID, UserID) tuple, so we format the data in this way\n",
        "\n",
        "def formatting(row):\n",
        "  splitted = row.split(',')\n",
        "  return ((splitted[1],splitted[2]))\n",
        "\n",
        "f = f.map(lambda row: formatting(row))\n",
        "\n",
        "# Now for each product we are going to build a list with all the users who reviewed it\n",
        "\n",
        "prod_users = f.groupByKey().mapValues(list)\n",
        "\n",
        "# We filter out all the tuples having just one review or eventual NA in the keys\n",
        "\n",
        "prod_users = prod_users.filter(lambda x: isinstance(x[1],list) == True and x[0] != '')"
      ]
    },
    {
      "cell_type": "markdown",
      "metadata": {},
      "source": [
        "### Second MapReduce block"
      ]
    },
    {
      "cell_type": "code",
      "execution_count": null,
      "metadata": {
        "id": "aBXGu-EsaMTX"
      },
      "outputs": [],
      "source": [
        "# Now for each product we can emit a list of tuples (user1, user2)\n",
        "\n",
        "import itertools\n",
        "\n",
        "def neighboursMapper(tup):\n",
        "  L = []\n",
        "  for pair in itertools.combinations(tup[1], 2):\n",
        "      L.append((pair,1))\n",
        "  return L\n",
        "\n",
        "pairs = prod_users.flatMap(lambda x: neighboursMapper(x))\n",
        "\n",
        "# Now we could just reduce by key, being the key the pair (user1, user2)\n",
        "# But for the seak of efficiency we rather use combineByKey\n",
        "\n",
        "adjLists = pairs.combineByKey(createCombiner = lambda v: v,\n",
        "                              mergeValue = lambda v, v_prime: v + v_prime,\n",
        "                              mergeCombiners = lambda v1, v2: v1 + v2)"
      ]
    },
    {
      "cell_type": "markdown",
      "metadata": {},
      "source": [
        "### Third MapReduce block"
      ]
    },
    {
      "cell_type": "code",
      "execution_count": null,
      "metadata": {
        "id": "YTJ7m8UvV7c0"
      },
      "outputs": [],
      "source": [
        "# This last map-reduce call is to retrieve for each user the adjacency list\n",
        "\n",
        "adjLists = adjLists.map(lambda x: (x[0][0],(x[0][1],x[1])))\n",
        "adjLists = adjLists.groupByKey().mapValues(list)\n",
        "\n",
        "corewGraph = adjLists.collect()"
      ]
    },
    {
      "cell_type": "code",
      "execution_count": null,
      "metadata": {
        "colab": {
          "base_uri": "https://localhost:8080/",
          "height": 17
        },
        "id": "JeWyd2ygMO3A",
        "outputId": "e3d2f91a-c801-4843-97dd-82748d65bf4f"
      },
      "outputs": [
        {
          "data": {
            "application/javascript": "\n    async function download(id, filename, size) {\n      if (!google.colab.kernel.accessAllowed) {\n        return;\n      }\n      const div = document.createElement('div');\n      const label = document.createElement('label');\n      label.textContent = `Downloading \"${filename}\": `;\n      div.appendChild(label);\n      const progress = document.createElement('progress');\n      progress.max = size;\n      div.appendChild(progress);\n      document.body.appendChild(div);\n\n      const buffers = [];\n      let downloaded = 0;\n\n      const channel = await google.colab.kernel.comms.open(id);\n      // Send a message to notify the kernel that we're ready.\n      channel.send({})\n\n      for await (const message of channel.messages) {\n        // Send a message to notify the kernel that we're ready.\n        channel.send({})\n        if (message.buffers) {\n          for (const buffer of message.buffers) {\n            buffers.push(buffer);\n            downloaded += buffer.byteLength;\n            progress.value = downloaded;\n          }\n        }\n      }\n      const blob = new Blob(buffers, {type: 'application/binary'});\n      const a = document.createElement('a');\n      a.href = window.URL.createObjectURL(blob);\n      a.download = filename;\n      div.appendChild(a);\n      a.click();\n      div.remove();\n    }\n  ",
            "text/plain": [
              "<IPython.core.display.Javascript object>"
            ]
          },
          "metadata": {},
          "output_type": "display_data"
        },
        {
          "data": {
            "application/javascript": "download(\"download_5e0389cd-23c7-4a0a-8a31-f16bb393de77\", \"adjList.txt\", 274116594)",
            "text/plain": [
              "<IPython.core.display.Javascript object>"
            ]
          },
          "metadata": {},
          "output_type": "display_data"
        }
      ],
      "source": [
        "# Finally we can store and retrieve our output .txt file\n",
        "\n",
        "out = open(file_out, \"w\")\n",
        "for tup in corewGraph:\n",
        "  out.write(str(tup[0]) + ',' + str(tup[1]) + '\\n')\n",
        "\n",
        "out.close()\n",
        "\n",
        "from google.colab import files\n",
        "\n",
        "files.download('adjList.txt')"
      ]
    },
    {
      "cell_type": "markdown",
      "metadata": {},
      "source": [
        "The following are the first ten lines of the output file as required:"
      ]
    },
    {
      "cell_type": "code",
      "execution_count": 1,
      "metadata": {},
      "outputs": [
        {
          "name": "stdout",
          "output_type": "stream",
          "text": [
            "A92JIDJABMJKY,[('A2CS4B58345BRL', 1), ('A1MMJ2O6PM8OG7', 1), ('A29BWC41573AF8', 1), ('A1MM0WYBRDZT5O', 1), ('A2JBZWC5IY0AMG', 1), ('ACYR6O588USK', 1), ('A1IQB5BF5VKT0H', 1), ('A2K05W5ZQQH7VI', 1), ('A2ZEFDVX4X5TPX', 1), ('A2GEZJHBV92EVR', 1), ('AW7VIZUKC8ZY3', 1), ('A3TD1O4EC26NT2', 1), ('A280OZI067MIQN', 1), ('A1N5121RR13ZCZ', 1), ('AC0NNJ3Q6YF2N', 1), ('AQ0BWW19DY5KE', 1), ('AJOVLH67GULJD', 1), ('A291HTT117RVS9', 1), ('AM9KC2IIN15JV', 1), ('A3FRWBGL8TSOY7', 1)]\n",
            "\n",
            "A280OZI067MIQN,[('AQ0BWW19DY5KE', 1), ('A3TAJARZZROSW4', 1), ('A2YQ9TAWNCS7MD', 1), ('ALHKE0V8VBWEZ', 1), ('A1MM0WYBRDZT5O', 1), ('A2ZEFDVX4X5TPX', 1), ('A1G5T652XQM9YA', 1), ('A2D2BRNONA4LYX', 1), ('A1P2SJ67T9M0UX', 1), ('A116HM97LVE571', 1), ('A1HIQK0A0RHM6', 1), ('A32BC4R0D2IATH', 1), ('AXJGCAD36N915', 1), ('A399GGQ2ZSEZGX', 1), ('A2JBZWC5IY0AMG', 1), ('A24DTBQMXSP91Q', 1), ('A2F8YU4ZH94ATP', 1), ('A1JURFCT9KM3M5', 1), ('A2U4M72CSWCF8X', 1), ('AZVVSIYZ2BFW8', 1), ('A3MT2L5RQ97R7M', 1), ('A2YLATQDQMJLOO', 1), ('A2LC4WI692HS5H', 1), ('A3UVTS6JPKW0GX', 1), ('AVAK5L1KKDXRA', 1), ('A8WJ5K5ZPZDUA', 1), ('AVBNYJMBF9IZE', 1), ('A1N5121RR13ZCZ', 1), ('A1C6MY6MY9AEER', 1), ('A35LXM3A1N2MOR', 1), ('A3AMNNCGDB5HX2', 1), ('AC0NNJ3Q6YF2N', 1), ('A1VBS61ZHY2RF2', 1), ('AQHWUUL77HQXR', 1), ('A2RNYW2HIQBGSM', 1), ('A3KQD4TZCAF7LG', 1), ('A3FRWBGL8TSOY7', 1), ('A192VOBXX8LHO0', 1), ('A2E3WMF9RWW2X2', 1)]\n",
            "\n",
            "AC3ZR64550O35,[('A3MP1RFOVTGCMI', 2), ('A1VQPTU7GEUCVW', 1), ('A3OXHLG6DIBRW8', 1), ('A2752XIGJY2YH6', 1), ('A3MCD82QVBLWRX', 1), ('A36MUEYWCMBYKN', 1), ('A1B495BL1P3SNC', 1), ('A3UP8N4590K0UP', 1), ('A1BFQSWQAXJT6W', 1), ('A1JDP3SHVMJDUC', 1), ('A2X5PQ4WZBM0SZ', 2), ('A134WF9Z450SON', 1), ('A3D6KZT0QG6UKB', 1), ('A2LAUHCU9Z29F9', 1), ('A22399Y5US6EHH', 1), ('A1OVM9V9VTHZAO', 1), ('AEF82MNGUOSNG', 1), ('A7E50CKOKMMG4', 1), ('A23YDNPSZOWOIG', 1), ('A33AD0EXJULFEU', 1), ('A3R25J093OGY3D', 1), ('A393SW83L4WH3G', 1)]\n",
            "\n",
            "A3IYSIAKYOMKTO,[('A4IB02YUUJ758', 1), ('AAUICTIUBVU7R', 1), ('A3FARCKMBHQZLY', 1), ('A36L7VJWDO7AN2', 1), ('A3NKSVKXMM5I4T', 1), ('A235NA61RC6YC1', 1), ('A36MS27KAA5S26', 1), ('ARYSDAZNRXN6G', 1), ('A6LUXI8I8BU6P', 1), ('A1IHK8GL1ESOND', 1), ('A2XBE812RSFZO7', 1), ('AODZXY5RCM4QT', 1), ('AYOJ4CX2CZP7Y', 1), ('A1SYDFQ1FXM2RT', 1), ('ABNMD6670TV53', 1), ('A18S2A07LBNVNF', 1), ('A3CG6YLYZJXQG4', 1), ('A3CBCVHIK3G76X', 1), ('A3VBZDYGHF4NK8', 1), ('A18P0T2NZTGWYX', 1), ('A2QZ0Q7H8QLXBR', 7), ('A3973OMNAU9U2Z', 1), ('A3UX31ULKY7HX2', 1), ('AP4LJ3NUTGN5', 1), ('A1JHEC033WZCKW', 1), ('A3E63311ZH0RUD', 1), ('A26QL8IY48A96E', 1), ('A1ZNCMFIECPTVT', 1), ('AKDXXW89ZLCJS', 1), ('A26BDXG9KVH7SU', 1), ('A1BHSP8TPTH8Y5', 1), ('A7RFDGVXDYQLJ', 1), ('A2L4XGVPR42KHL', 1), ('A356JAJSFPFB5P', 1), ('A2G9UDL72YUTT8', 1), ('A2IP33O7WBJLU5', 1), ('A39D7ONPOORMUT', 1), ('A5ZD6FBMZQGDS', 1), ('AQIJ3ZEEVCIKU', 1), ('A3R9H6OKZHHRJD', 1), ('A35JP8KSV9281K', 1), ('AWAB7PKBO3BBT', 1), ('A27HB4L3I1WJUR', 1), ('A1BTG38XSGYLW3', 1), ('A2O421DTA8J0RW', 1), ('AYWHCM0TJ4737', 1), ('AO5DDG05DHVIC', 1), ('A25C2M3QF9G7OQ', 1), ('A39BFNNMYJ0TNT', 1), ('A3PYMW0LCZUJR6', 7), ('A2UXX5DM5PHUAP', 1), ('A1Z4W0E1CZMKJG', 1), ('A2Z59KQX8LAUO5', 1), ('A1QRPA0CLO05K9', 1), ('A1CPHJAX018XD3', 1), ('A1VXIY1511XQK2', 1), ('A1ALOTXWL76OY7', 1), ('A2OJCTT5WLB2HR', 1), ('ASY25YMTIC2A9', 1), ('A3MZNRSDQ32UUH', 1), ('A392BGTO28EN6V', 1), ('A3JPFWKS83R49V', 1), ('AMTK54YZAO411', 1), ('A3S15YGZ6W6EV2', 1), ('A2OCDK0BOW6UCY', 1), ('AC6LV5D2RKTIR', 1), ('A199FRO0YFMGED', 1), ('AY49JOXTLDOG2', 1), ('A3I9XZGYARBLS4', 1), ('AKDIEY3APNBR', 1), ('A2DDVD6SPKZOZK', 1), ('A3KZ7OH4VRL048', 1), ('A27DITPCCZIVAH', 1), ('A3AJCNF56KL0B3', 1), ('A2589DCKOQ4CTH', 1), ('A2HTPS0JV3Q8ZD', 1), ('ANEDXRFDZDL18', 1), ('A1TP7BQ5CQDI5V', 1), ('AR3LDOEXJIMAH', 7), ('A8WDJ1H619R7M', 7), ('A3HT8Z717DVTNZ', 1), ('AA8JH8LD2H4P9', 1), ('A3OBOS5TOKKK5T', 1), ('A1EZ3P0C2XRHWQ', 1), ('A3AZI828WJN1CD', 1), ('A115C4PAAUPZQO', 1), ('A1ZGHA3IJV01BK', 1), ('A1YX6S4I5GG5VK', 1), ('A20H1M28WLI9J2', 1), ('AC0HPFQVBZVGY', 1), ('A32DYU82G6X3AO', 1), ('A1INBQLNQNSHTK', 1), ('A20DDH4NT6Q1E8', 1), ('A3K8AU6BAGN60E', 1), ('AN9J46667D80O', 1), ('A100WO06OQR8BQ', 1), ('A2UOLBX7155MY3', 1), ('A24QB5BF3B5A9S', 1), ('A1WKEAS58297E5', 1), ('A1KOYOE8O2F1J4', 1), ('A2E1EFNIZL2FVA', 1), ('A1VTBADV3JS1EC', 1), ('A3IR834T7AROBT', 1), ('AMIGVTZZIWS6I', 1), ('A3H8PA7AG48K33', 1), ('AH8SVUY191DSF', 1), ('A3PECZX773ME74', 1), ('A1N03V52IRZ5PR', 1), ('AYPEPA3VS4KDM', 1), ('A1XJ3M3JTMD3HZ', 1), ('A1T9FKN32AMZSR', 1), ('A1H4C514HMFXGZ', 7), ('A3L6YSYB1ITURN', 7), ('A1Z3WWIY4LTO2W', 1), ('A17KQV8BC332VS', 1), ('AKVQ695CL2D8Y', 1), ('A24BLV66BBCDZC', 1), ('ATBBKMXB7X1BV', 1), ('A3S47IH20RNWHK', 1), ('A14HM1P0YJQ4HB', 1), ('A1MPBBC8CYYF3R', 1), ('A2ALX5U55NTGTL', 1), ('A33EPM7PZRDXO5', 1), ('A14X244VGHWPSX', 1), ('A6SM104267C1C', 1), ('A3MUSWDCTZINQZ', 1), ('AZ5X928CQPRJN', 1), ('A1K5KHJRKINCP', 1), ('ACVQ6OMN2T773', 1), ('A1PW5SQLR0Z6IH', 1), ('A28SBPF6KFZ7VL', 1), ('A1ZZZT0KJR46UV', 1), ('A1L7R2764ED46Y', 1), ('A2YCUCEYXT9VHX', 1), ('AE2MKYLMTYF21', 1), ('A20VX7F4164FVC', 1), ('A23WE733QT4WGJ', 1), ('AB8TX5GQQZTS8', 1), ('A3MFU0GVZUVH3K', 1), ('A16AXQ11SZA8SQ', 1), ('A2POYXTGSPSW7O', 1), ('ALJGEI5Q70481', 1), ('A3DX5F0CW34Y9', 1), ('A3TAF7M58DN46F', 1), ('A2CISZ4JLKQRJA', 1), ('A2I98OOPNIJNYY', 1), ('A1JAPP1CXRG57A', 1), ('A1BCSEDVL0Q0GN', 1), ('A3DJB3IM80KS9Y', 1), ('A3E3NZODTWYJGN', 1), ('A2I1DIUGYJAIWL', 1), ('A2K89R0B20LYHB', 1), ('A2ZO5SU0ESSB1N', 1), ('A2L6QS8SVHT9RG', 1), ('A1U7YAYZCG6ELL', 1), ('A3V1AHX8P4R839', 1), ('A234X1MVIMPMMC', 1), ('A2OVRC3Q31944E', 1), ('A1R6DKN9YQ2YU1', 1), ('AJXZUXN05JWXV', 1), ('AI9EIHVBHFPC', 1), ('AMRMK86X3PKXD', 1), ('A26DQMYF5E0GL6', 1), ('A1LA4K5JF78BER', 1), ('AWE13F1HOCZNT', 1), ('A47D5C32VLQM2', 1), ('A14ENWEKTHCBXR', 1), ('A3EXW4HNYX7HF5', 1), ('A3U0S17XYK8XMJ', 1), ('A71W7G4TCTH3T', 1), ('A4KJTS5P78ICU', 1), ('A2PU80LCKRMC9X', 1), ('A2KWE2ZM1EEBGJ', 1), ('A1VBDMNT6I8RE5', 1), ('A3RMS65F4GT4ML', 1), ('AO1Z0TQWCRGL4', 1), ('AZ4352XO4HH3M', 1), ('A2Y5WNDVA5RGX0', 1), ('A1L5MNJ6FKQ52U', 1), ('A2J57VGDETZKF6', 1), ('A11CH52DG6EF6P', 1), ('A3PLXROA2VNLHA', 1), ('A1LG1DKUZXGJ6J', 1), ('AM004PHO6F3FZ', 1), ('A1MBXP3NZM2BUO', 1), ('A268EEWUXYCA8Q', 1), ('A28CCN6VYHRUKS', 1), ('A3CW8OUDH7M079', 1), ('A3A1OA237FOZFK', 1), ('A3J356L2ADK05Z', 1), ('A26NMTIHEUM65Z', 1), ('A21B8AV7E3MPXE', 1), ('A69GBB918D2PP', 1), ('A1KXONFPU2XQ5K', 1), ('A1Z54EM24Y40LL', 1), ('A31COKWABW2WH2', 1), ('AGZK126DNQ2FN', 1), ('A38VQ2TIPPBKNN', 1), ('A29C0Z6BY8HB9H', 1), ('A19YOYY7FLQMA6', 1), ('A3C1QYGEET3BVY', 1), ('A20CQ20J30DJZT', 1), ('AI60AUM7SJR99', 1), ('A3A90C8C1A0PS8', 1), ('A2II54B3VA45LN', 1), ('A3RUL17Z8E8BV7', 1), ('ALJHGSUNUN5K2', 7), ('A3UPL3D5JBJYTP', 1), ('AT6HN9EIJDF14', 1), ('A2JSJSQH6MKBY5', 1), ('A35HOUWHAYZZN6', 1), ('A3BEQRW4Z93GP0', 1), ('A2RL1RS6PWUHWI', 1), ('A1P27BGF8NAI29', 1), ('A2RBWETF0ABYA2', 1), ('A31YSTICHFYN7O', 1), ('A1AEPMPA12GUJ7', 1), ('A2F2S1L61X1LA9', 1), ('A23ZNGL704AW7O', 1), ('AZJL03R8NDQ7C', 1), ('AQ2FC1DLKVD8H', 1), ('A2MOD50IHEDH3G', 1), ('A3QEJ40NQEW36Q', 1), ('AWPN47SSWK1JV', 1), ('ABSYIF0ONC2AF', 1), ('A246YIFE5M6M2C', 1), ('A283NP8NG7X11F', 1), ('A1ITRGMT80D5TK', 1), ('A2YQ2ZI65F37N8', 1), ('ATECU14VUIOJ0', 1), ('A279A4Y2N1CQ26', 1), ('ALLHJD3KZF9KC', 1), ('A3Q9HY0LU7MN6E', 1), ('A4PTUEVFE13K6', 1), ('A3MDLDRB2GVKBH', 1), ('A16WPA6JV83YXT', 1), ('A21BNKXAQY9AHF', 1), ('A5FG7521V3EJX', 1), ('A15WH7QQ07HN7D', 1), ('A2D1NTJRB0WSQL', 1), ('A33JIOGV3UUKIA', 1), ('A15MWM1VEKH7X4', 1), ('A29KCMFZIAKSWT', 1), ('ABTUNH7645QJL', 1), ('A3A7AWWYDEE9QI', 1), ('A12O5SEIF162P8', 1), ('A39LRLKACX89IP', 1), ('A3Y0IB3VYLD6A', 1), ('A2EIODKT7EDOC4', 1), ('ADJMETBPYJL7Q', 1), ('AR5SY32T76DBM', 1), ('A1UKA7HUAQAMY', 1), ('A52X1I4UT56KL', 1), ('A1H6SBO7R007I8', 1), ('A1V3PCKVCJ3TTZ', 1), ('A1C139F5C7Y38P', 1), ('ADB8XCKNSDY5Z', 1), ('A2J557IQKW3GCP', 1), ('A1ZH9LWMX5UCFJ', 1), ('A1Z0LTKUA6F94D', 1), ('ADP8ROI8NMNL2', 1), ('A3EPHBMU07LZ50', 1), ('A108XP24UESKSV', 1), ('A3GVD3O9QG6I0V', 1), ('ADPP0TXH70ON8', 1), ('A1FCQI065T3HYH', 1), ('A1ONZ8JRPLBNUI', 1), ('A1S3IN6CSTBPY6', 1), ('A3VI2VETB90ZG5', 1), ('AQ3IN3MRXQ5KH', 1), ('A3EX36SNRYD5VL', 1), ('AW7BIYHXUIZ62', 1), ('A2HW33PQSRHLNO', 1), ('A26LD9FQHTM8ZH', 7), ('A1DDGFQZSKPL8U', 1), ('A2R6A5HHA6AC12', 1), ('A24DSZJZDSNL4L', 1), ('A1LK6G15BFH9CT', 1), ('A3A18GTY1LN8T5', 1), ('A1LXBIDWACC4TS', 1), ('AGU9QVBWHBH6L', 1)]\n",
            "\n",
            "A36WGHR8TO5DKT,[('A2UK61LFJ2MMHR', 1), ('AZV26LP92E6WU', 14), ('AAHT52VAER253', 14), ('AT6D3Q62XXXSB', 7), ('A1T4682B4IV0O0', 6), ('A2D2D4QR9Y4SBE', 12), ('A1IQAJM4F6E7JY', 6), ('AA40BWJ6ISG2R', 6), ('AFMWCHJK59G4D', 6), ('A38IMBWMNZFTD2', 6), ('A4JS8BC0B8Z65', 6), ('A72S32GEONGBU', 6), ('A1UN5Q1FKH1ZT7', 6), ('A1AY8IADS08GZ6', 6), ('ALAYBANKE688O', 5), ('A325VWY0GDL5C5', 5), ('A7YBW36E2I4UF', 5), ('A32A0LH5X2CTBF', 5), ('A8VNFTMMXISB2', 1), ('A271KNHFQTUZVQ', 1), ('A29A01MFY2461Q', 6), ('A1YIWN894GYC5', 6), ('A1J3B4AKMF0WEY', 1), ('A32Z2N8B703CK7', 1), ('A1J6UHLO0YIIKK', 1), ('A2H17FFTKX2H87', 1), ('A1932WYIFPPVO5', 1), ('A3TLHOKVUV1TU6', 1), ('A1PT792WFN159A', 1), ('A3MDWXIOQ7Q4YX', 1), ('A1VY6WM3Q7Q9K0', 1), ('ABVOJNLTE8PZ3', 1), ('A2W3K03N6QYJJW', 1), ('AFNE6AFYU3ZVD', 1), ('A2A1XYSB692L6J', 1), ('A1EX9QCHRDOZ6Z', 1), ('A395S4RA1X7BFB', 1), ('A3284YWXE2PTCK', 1), ('A1KE7HE0IXGF0B', 1), ('A15JWB21LCDHIW', 1), ('A2EUZB5VQQOWV9', 1), ('A1LYZQDDYM3VKW', 5), ('A1WX42M589VAMQ', 5), ('AMOGDL2PQBOYP', 1), ('A3G13ZNBDWRG70', 1), ('A1H7Y06GHUPWLR', 1), ('A21WL26MHRG3ZI', 2), ('AIB4OKYPJZRZG', 1), ('A23IJVLH846JXN', 1), ('A2XZEAEZCZAF6Y', 1), ('A1LO8T8LUIEKTQ', 1), ('A5R3LQ9R8MHIG', 1), ('AW87F1TK3H49Y', 1), ('A1D4GBR4Z53N56', 1), ('AMSFBXBJJUDSI', 1), ('A384WYPUPA1NLZ', 1), ('AKYMNY4SLBVGE', 1), ('A2VVYRCN7L5WX9', 1), ('A1J2ZDH9W61UWJ', 1), ('A2HPAQEZSCY427', 1), ('APRCWWXN9S5KE', 1), ('A19LLXPCHI9N7O', 1), ('A1SJ0P1ZG2UV81', 1), ('A3U7Q41SJ4PWI', 1), ('A269I2GS5UJAV3', 1), ('A1AUEXBG2MXTUQ', 1), ('A2GUC70EFB9PRZ', 1), ('A298GL2D0BHGKZ', 1), ('AV92TAXZS56BD', 1), ('A218THF45IKWKH', 1), ('A3E8IDDH6JSKOD', 1), ('A1QVIYIM2LPH2P', 1), ('A1IXANHJ9RSXNE', 1), ('A1T61TUTZEQMY5', 1), ('A1IUL785XKEAD', 14), ('A3G7M77IKGD1B7', 14), ('A3KZCNV1N8R9GC', 6), ('A2PNOU7NXB1JE4', 12), ('A1DCIMJ7N7SVM2', 6), ('AKMEY1BSHSDG7', 7), ('A3GPM6G85XE1OS', 6), ('AYTCNYJ39FSYF', 6), ('A3411K5L6QNVH7', 6), ('A1485IV3S2AQGB', 6), ('A3H1GF7Y7SDXOH', 6), ('A2QSJC93J2QUJK', 6), ('ASX1QCRS3BDP7', 5), ('AMP0CXEPUAIVE', 5), ('A1NPH4AAIVOZK1', 5), ('A32K92OMB2PR0J', 5), ('A2CG4JBROLYXXP', 6), ('A20WKQ948WZOQJ', 1), ('AFFH3Z3GO3VC4', 1), ('AAUICTIUBVU7R', 1), ('A2OWRMM6537ZJT', 1), ('ASC8VS348EKZ6', 1), ('A3MK558JHKJNIV', 1), ('A12SL9O5V47LLL', 1), ('A393MT01PYNBJQ', 1), ('A3FR9FK47CMIR9', 1), ('A1NNGKWRUDG0FX', 1), ('A1H0K0P3P9JGAS', 1), ('A2OUN2538DD7S2', 1), ('AHEBMAD5SIC5B', 1), ('A7Q3B3F0LOCU0', 1), ('A3RQ93FSQV5UPC', 1), ('AGAJQ2K83YW7P', 1), ('A1RR19NDPEF6O9', 1), ('A35JA0J1VX1R3G', 1), ('A1N7HQBZPTAJUV', 1), ('A2WQI10P2UZ8VB', 5), ('A3BSTFFIKK5YTW', 5), ('A28UDMHG53LMJ1', 1), ('AO8FCN4SVX276', 1), ('A3OMHAGEHPGLLN', 1), ('A2LJJ4482V9LAW', 1), ('A3G87KNRCLDF4K', 1), ('AYPB41TW9A6V8', 1), ('ALJMBSD21254F', 1), ('A18AB9ZJASYPRS', 1), ('A1K82R24ROO2I7', 2), ('A4902TQB4NGRJ', 1), ('A1WD39ECTC6W1S', 1), ('A206FFH5DBWL1H', 1), ('A20A9P8EJ5BREG', 1), ('A1PQPF9XBN34AN', 1), ('A2SHUYK3YMWPGK', 1), ('A1IREVQF9CTS8M', 1), ('A3W43ZV9NIVHCE', 1), ('A1DJ9FOEOA0WF1', 1), ('AO20S1SAL2AO7', 1), ('A17WPIK99K771P', 1), ('A11YOTONCPRQ9S', 1), ('A38ZHOQCGNS0O7', 1), ('A2S2ZEROJTRQCU', 1), ('A2AIY9F9N6LGD6', 1), ('A2SMS99GDP1R5N', 1), ('A3336EYM08OMDY', 1), ('A1ZO6VO9RESLAT', 1), ('A2R1P40IBYYANT', 1), ('A25CD8PR2PYZWP', 1), ('A3M6Z7OWOSE0FO', 1), ('A3AZLDHN6JF8YW', 1), ('A22BYANOPJWAXL', 1), ('A2WLXWHCM2C6EN', 14), ('A1U37D8Q1ZQGFC', 12), ('ASF5Z1XBNIQSJ', 6), ('A3NQNKN7Z2K6FR', 6), ('A1HBC0NBQJHT7X', 6), ('A3O9YQT3ORQHTF', 6), ('ANCOMAI0I7LVG', 6), ('A1TNUUSBLUSVZF', 6), ('A1PMBS291LAGW2', 6), ('A2DV4MDNV9XODV', 6), ('A29RKKFHC7Z8P', 6), ('AUG0C084W05KI', 6), ('A31N6KB160O508', 5), ('A3AO1QJRTW8KQM', 5), ('A2MUGFV2TDQ47K', 6), ('AMAFO9NV8A37H', 1), ('AHDP0K1WIR2U0', 1), ('A22NSA5IXUWDM3', 6), ('A2GU7SQOQWFUU0', 1), ('A38GMW8CODKV1Z', 1), ('A2ZUZXVUO4KDRM', 1), ('A2L98CPEQKAOHV', 1), ('A17XJ1X5O3MQQI', 1), ('A3RZHCAMAV3E40', 1), ('A16Q1LYIDE2WDZ', 1), ('A3HJDGAU2SB8VL', 1), ('A21Y31ZB4FAJC8', 1), ('A37UKMKZNPZPGQ', 1), ('A3KD25QWG3VYK4', 1), ('A2U2ESZAQG8079', 1), ('AG9A4HYVFA03G', 1), ('A1OD0MT3I6ZVC7', 1), ('AEO407GROR6JB', 1), ('A33LC1N0KISA5Z', 1), ('A2NQWPJ8EBWM3L', 5), ('AUTZCQI3CYN2D', 1), ('A3HD4EZXQ6VK0Q', 1), ('A28GRFVAA4DU5P', 1), ('A2P3BQNIAGDS8V', 1), ('A18V01A7A12S24', 1), ('A3GAFDV2PWXNNW', 1), ('A2NPXQPUH9SIOD', 1), ('A2WLS1TTUUGJYU', 1), ('AD957AOWYJXHT', 1), ('AJX8JK1932MH9', 1), ('A2NLKECIG7SNBX', 1), ('A2GKOU0BK45K24', 1), ('AQ0BWW19DY5KE', 1), ('AOVJLMGNL06XX', 1), ('A25PTX5BX21GCM', 1), ('AQ2CTZHEOSCFG', 1), ('A35E5BPBHN6GO9', 1), ('A16OPBX7TPQEWN', 1), ('A32YW4V65FB0YY', 1), ('A28KCEPCCJ8DYJ', 1), ('A1KYE4PMM4GGZ8', 1), ('A3B1360JOYS0GJ', 1), ('A2D625P0TKHVSF', 1), ('A3NTAQ473SV08U', 1), ('A2776XCRM5VYZY', 1), ('A1YM1J5O16I6O2', 1), ('A3TMFEAT55QHRK', 1), ('A15DO20WUJ63YM', 1), ('A14N9YGGSY9MWQ', 1), ('A3094EPI56GKZ6', 1), ('AJMH1S1H2GUQC', 1), ('A1BJOHHLG0D965', 1), ('A1TMAVN4CEM8U8', 1), ('A1USNFQQG37BZ8', 6), ('A3GO08RURRG0BK', 6), ('A3GTA38SKULV7I', 6), ('AWH79USX9CMAX', 6), ('A46JGJL30HFXL', 6), ('A1TUTJ0Q39TLJP', 6), ('AI2R8J6AEFP0X', 6), ('A2U51YC70DW9MQ', 6), ('A2ENEC7HM33A1A', 6), ('A2CPOGQI5S55SJ', 6), ('ADU5191F36UPG', 6), ('A3RASSV5PZTKME', 6), ('A1M8AYAL3L8ACP', 5), ('A1ODKP5Y7DPMM1', 5), ('A39YEDM8RIG4V7', 5), ('A1KNFL9G04QLWO', 5), ('A217OQOER0790L', 5), ('A7W97TBAJSXB5', 5), ('A3OW579U5QXWHM', 5), ('A273L0HI95MGZA', 5), ('A1EUVE3AJDKAV3', 5), ('A2A9X58G2GTBLP', 7), ('A3V77LYT3OYE2P', 6), ('A1HTYYWSJIC3JF', 1), ('A2KXPJKK0M2KQ3', 1), ('A3MWS9YTWU4KQH', 1), ('A3QD5F8N8EK6CQ', 1), ('AN69X3452UW61', 1), ('A3JRKGMYF3F09Z', 1), ('A6UCPIORJBAGB', 1), ('AMEC55T4IG95R', 1), ('A34L618IHVDUZ2', 1), ('A3QRUORQYEDGP9', 1), ('AKOYMM5TTRIHQ', 1), ('A2SUFIIV7VBXO', 1), ('AWKK503L4O8JG', 1), ('A3LWC833HQIG7J', 1), ('A1E9Y25I21672Z', 1), ('A1OEKU0BVKLMHG', 1), ('A1XVQ3KHS22E3F', 1), ('A28MFZOUKL68X9', 1), ('A4P7N1ILEYDYW', 1), ('A1816XMXNQG88B', 1), ('A2442VURCNE01O', 5), ('A162N91OR5D8DJ', 1), ('AN683QF188A3Z', 1), ('A22G64MP2WZHO0', 2), ('AOCJVTOCJEFQY', 1), ('A1DHYBIH3KDU9U', 1), ('A2U77Z3Z7DC9T9', 1), ('A1ZNV9P6TE1XZT', 1), ('A10BK26EN1YSZT', 1), ('A1R86ISGTSMUQQ', 1), ('A2HRJ72OVGHCPI', 1), ('A212VT0OJUSBKE', 1), ('A112FTXWJUI4XG', 1), ('A25KV1200V6YTJ', 1), ('A18EAKIKA48AB0', 1), ('A2BILB4SKUYXVY', 1), ('A3B5OLV01PVP85', 1), ('AQJC7LNUYE937', 1), ('A2TG7WPYIWL30V', 1), ('A3P0IN5AD5TDP8', 1), ('AG7EF0SVBQOUX', 1), ('A1CWMEQBBRO7QQ', 1), ('A3TSQVDK4TZ1VD', 1), ('A2NOW4U7W3F7RI', 1), ('A269QNZIB8WVRN', 1), ('A6UFSCD6O8JMT', 1), ('A1UACOLNQ69A1K', 1), ('A21I62TCDL4754', 1), ('AHH7JK1XNOPR8', 1), ('AXHE0F51WW475', 1), ('A2HQK8KUF41U4N', 1), ('A3K4RC4WN6OD32', 1), ('A2JQ3SEXKF86TF', 6), ('A1ADMN7EY9STCO', 6), ('A2IUM7ZO779UJ6', 6), ('A4YBRLGRLWF46', 6), ('A2E0VWHD2YY9K1', 6), ('A38AK9ROCL1UN6', 6), ('A2MWB3Z94FOP88', 5), ('A1RIBL5O4ZJ0CE', 5), ('A2V02P8BZQC69', 5), ('A4K59NXQ1L2WB', 5), ('A2W0S102A8RHY5', 5), ('A2JU1NPLEC9I1H', 5), ('A3K7SYF8DZLZMI', 5), ('A1JTQCIL88W9JV', 7), ('AP6T7CAWDUXUO', 1), ('A1YQL0P2O9ABE', 1), ('A1T1YSCDW0PD25', 1), ('AYI6ZBGMR1TJY', 1), ('ABYZ5RIECDBRP', 1), ('A2DCEHLTW7HCV', 1), ('A3091RP0SPZLMN', 1), ('A1N1SICJ6274R', 1), ('A3HKLC9CMN2358', 1), ('A115P1QHLDDWYZ', 1), ('A1YAZ616X4U3EB', 1), ('A216O05OLDJQQD', 1), ('A3ICH12R2IYZZ6', 1), ('A1CIDZ5JT8L654', 1), ('A2LIFYJD8F7X4B', 1), ('A2Z82NQ5XVGZC0', 5), ('A461VTLW9G9YB', 5), ('A2APBHKZCMD6DO', 5), ('A2GEZJHBV92EVR', 2), ('A1XKHZ0Z7OTC9L', 1), ('A3RYDVKHP9GWSH', 1), ('A3KOAIRG0CC0NR', 1), ('A23HRTD9I9K90Z', 1), ('A2CAHAO8FYAF8H', 1), ('A2QJ6O5P244HJY', 1), ('A3FWLWQC0PEGHX', 1), ('A2XLLCW50TBFFZ', 1), ('AZMOM619PTO5B', 1), ('A3PD8JD9L4WEII', 1), ('A3IZYL4982A3V4', 1), ('A1IHZZG0WP4EHV', 1), ('AWFVS7IOT6SB', 1), ('A1SZFKJOU2C1D6', 1), ('A1S6SOMX95LMMU', 1), ('A2LSX649FXAYPM', 1), ('A1ZBNHMPVDOH63', 1), ('A1YNW0F6XQ996W', 1), ('A22NUPW51IUMY2', 1), ('AVLJV4ZX3NFX6', 1), ('A3Z19QGXMV6BA', 1), ('A1ML4CGU7PWRAU', 1), ('AZXKAH2DE6C8A', 1), ('A2CBOY11CWWDLX', 1), ('A1L64BEDAEXT8', 1), ('A1CJGMMGLPOZRM', 1), ('APSD9KOFBWHXP', 1), ('APJFC5GIQL3J2', 1), ('A176DPQE5C7N3F', 1), ('A180EB2XFOEA82', 1), ('A3IXIN9Z566D8F', 1), ('AS4EAY85EU9ZB', 1), ('A374MHJO2OR1S4', 1), ('A281NPSIMI1C2R', 13), ('A2RN5EQC3F75PJ', 18), ('A2IDGIAMYWRNM', 6), ('AP8XXR9YK7AJB', 6), ('A1R8UVDE12GK6R', 5), ('A1Y6SBCVKV0LW3', 5), ('A347TM4D5VG566', 5), ('A301RHDF84A3F1', 5), ('A3H1T4KIJW3NZH', 6), ('A5GHLWI1T0TT9', 1), ('A1BXSDO5037MPM', 1), ('A1EI9L23PXZSV8', 1), ('AH78NEKE8MNPH', 1), ('A1LCI7FVN02SX5', 1), ('A2J2OYB848AVHK', 1), ('A27YSYBR6HQMMB', 1), ('A37CMWV7LHWW28', 1), ('A2H6L1W8NQMRG9', 1), ('A373FBI2DT2TL5', 1), ('A39EMZ4NMHL4CA', 1), ('A3SDGTN4NQBU9H', 1), ('AEYJ1RHXCOLDR', 1), ('A2XU2N5XCIRZ0S', 1), ('ASBLZT964CTIZ', 1), ('AJGU56YG8G1DQ', 1), ('A2X4YTK8N6BJU8', 1), ('A2XPT88W2XGTU2', 5), ('AQMHIYKHRGVK4', 5), ('AJ8O8X83YVJS0', 1), ('A70BSERKJY06N', 1), ('A1ZH9LWMX5UCFJ', 1), ('A1WL5EI1OIEZTQ', 1), ('A1U3CTNOP6YHV6', 1), ('A3AC9O50KDV3W0', 2), ('ACT6MIXS4TWUH', 1), ('A2QUMRZ6MP66DN', 1), ('A2J1HP2FKX6TN9', 1), ('A2I7PIEDIVES6F', 1), ('A83AZIZ2D7B5L', 1), ('A2TOT5E5VLMRTR', 1), ('A3KJ6JZ8MWERPG', 1), ('A2MI0ZF22TCVI2', 1), ('A2FFY3WQ5GY470', 1), ('A2M3MVCK0X9P4J', 1), ('A27X750TSCLBD', 1), ('A21S80704YFTZ2', 1), ('A3F1T7JV6AD9K1', 1), ('AVSQ0D9545XYN', 1), ('A37XF3OXUBXK9E', 1), ('AGJ1G3001WH4K', 1), ('A3NSP9Z98BCLW0', 1), ('A2FBD2XKK1A6JQ', 1), ('A2NT29SYL521IR', 1), ('AN794NU9H516J', 1), ('A2VBL3JMMB282U', 1), ('A120N2WJ5K7RKA', 1), ('AGCH04PIIA842', 14), ('A26WX44IPN1M9T', 14), ('ABDCYK04CL6O4', 14), ('A3SVCW6LEUE9Q7', 6), ('A1DD3KZV6RF3UL', 18), ('A3JX37OEQSJJI4', 6), ('A1D3UD4W2WH1JI', 6), ('A6T56XTKHQQEK', 6), ('A3INN916E4VION', 12), ('AIZH0RKLZKLZG', 6), ('A2OWR2PL3DLWS4', 6), ('A3M019H9B8HNJ8', 6), ('A1WNPWIRY9B35Q', 6), ('A3PIVHGOMGECD5', 6), ('A2ZG5QZEH8AX1J', 5), ('A2C9XE9I8RSKNX', 5), ('AVICQVASIHDHE', 5), ('A2ABOZF4NB9PIQ', 5), ('A23747XY7VL8EK', 5), ('A1ZPM3RFYVPK9T', 6), ('A2TTE30DM7465M', 1), ('A354JL3SSZ87D9', 1), ('A14CCWRRI9AGJ9', 1), ('A39K52QDP4C3ZS', 1), ('A2O9EJ1LWNQXAS', 1), ('A3MZFG4EECNX7Y', 1), ('A16MN3CVJ4W557', 1), ('A36PI3OPFT2YC9', 1), ('A2VCCECCJ2Q118', 1), ('AFG58I90ULPTS', 1), ('A2UQJC0R9WEN0U', 1), ('A1PAFFE64PGY99', 1), ('A2RL1RS6PWUHWI', 1), ('A2M9D9BDHONV3Y', 1), ('A2ZKX8D8NINZ3M', 1), ('A8I0IS3EQ8MV2', 1), ('A3K00L9I9L92BJ', 1), ('A1J281JK9L2U77', 1), ('A3GOE91SGJI2NR', 1), ('A30B0B9XFM5MI9', 1), ('ADJH3RUOLDJVL', 1), ('AUGXZ6WTKYEKO', 1), ('A1OMSKXEIKVEVJ', 1), ('ANECKENJ6Z0EW', 1), ('AFG0Y21IIH0V4', 1), ('AQZGR5808XQYG', 1), ('A1QB8XWH0YP2NB', 1), ('A14ZHMTF75QRI0', 1), ('AN2ITOJCG9MI6', 1), ('AKOTVOFCTHD3F', 1), ('A21LMSXE4FODWL', 1), ('A3ABSJBA8EHW34', 5), ('A3ERRMCUGMXDBZ', 5), ('AUFO5GFCYNRD5', 6), ('A1GCFTFXELCHRP', 1), ('A3Q4DKLN07FJ9C', 1), ('A1NLZDMM0GS268', 1), ('ADJUOG2Z64N20', 1), ('A2WHV0YLBOK0I0', 1), ('AK4YCH8GISQGK', 1), ('AU49DU3FX4S1H', 1), ('A2UMEACOXTVSCW', 1), ('A8VIXCFJNCJEI', 1), ('A29DTYJA0N0QG', 1), ('A3GPIPBVGBIHJK', 1), ('A1PP4RU1JIQK76', 1), ('A3GL9RCI3FHH8K', 1), ('A10HEUSXUSETQG', 1), ('A1Z7Y2GMAP9SRY', 1), ('A33GTXF4RUP6FJ', 1), ('A1X1RNOVE1IUTG', 1), ('A1NGF708R4QTRZ', 1), ('A31LEVBRCI0BQX', 1), ('A21UPNY6Z85KSE', 1), ('AOW25AZOWAAXX', 1), ('A239J7YYY8S9G8', 1), ('A250FFYP8R4OMJ', 1), ('A1ED84P4RIOJ2Z', 14), ('ADMWYMH11LD27', 18), ('ABDQI3GI3UDTL', 6), ('AVH9SG3ZFYPZB', 6), ('AA74LHULLI5PF', 6), ('AWC6RMU31978F', 6), ('A1MUILE70L0N2J', 6), ('A35LT14WG5BX0T', 6), ('A1MIDF5S33U5T1', 6), ('AXSV2IRQX2C20', 6), ('A1PN3SJAP1TBTU', 10), ('AVTDPAMKNZMCG', 5), ('A1SXV3EFVLLQOK', 5), ('A3FFMDT9QSU8QW', 5), ('A1CCDESMIIA871', 5), ('AGFV9F4CI93S3', 1), ('A8FIXU93NS7KS', 6), ('A39PSKDTPNCILG', 6), ('AEKYUXH5MF9EY', 6), ('A304A9NJ8QHL44', 1), ('AIHXSIOHI0ARR', 1), ('A2ADLS54U1ETME', 1), ('A1P80DQ1QCO68Q', 1), ('A14G8U64IOQIMH', 1), ('A45RMUB1YIDK9', 1), ('A1Y7JCTEBJC7K1', 1), ('AWEM0VJCIHTXU', 1), ('A2MH45450030H0', 5), ('A2T875QZZMQ70L', 1), ('A3T9S9OO0434PB', 1), ('A36WKPFG35IOZ', 2), ('A273Q1O73NER22', 1), ('A172FQGSBS6FID', 1), ('A3S3VSXEFXBMRC', 1), ('A1FHCM1A21BM1F', 1), ('A3ETAFY5D4I3X5', 1), ('A2NWW05920OYOP', 1), ('AY1EF0GOH80EK', 1), ('A3R67YQYIQW59G', 1), ('A3FALBC0LBGFQG', 1), ('A8WKQ4AFK80UK', 1), ('A35HVXQLD526SG', 1), ('AG8IYOQUU2E5P', 1), ('A12Q26YMJ14ALY', 1), ('A2BFBHRVXSKZN9', 1), ('A3SHEW9Z9SR1T7', 1), ('A2HOCQJKNNN2GQ', 1), ('A1ILYJXXR16S7S', 1), ('A2HIV2R48FBSXG', 1), ('A3QNQQKJTL76H0', 1), ('A2NRQJGU8G2NQN', 1), ('AWCJX7GOXJG6C', 1), ('A17WRIS2K11QIH', 1), ('A3M2VGWFJGRUOH', 1), ('A21LAL2YC204AW', 1), ('A36PTDPVSJ0KOX', 1), ('A3KB5MPIR5W3SS', 1), ('A375D15FV164YY', 1), ('A1X2PNOPRYX4VV', 1), ('A39EK20I708CII', 1), ('A13GG9TSUP1C9O', 1), ('AYWPUWMMWS40Y', 1), ('A2JQ1PEOZK8L9Q', 1), ('A3RUMVZZ7W2E2S', 14), ('AYB4ELCS5AM8P', 14), ('A1NV4SWU2AVYGP', 14), ('A284Y0Q6QYCD5W', 6), ('AZNSBRQ0DS8LK', 6), ('A1MUQUK1M4UK16', 6), ('A2JKFWLMJY8Z7T', 6), ('A3ZTL7UCCFS3M', 6), ('AV6BQVVC1XE4E', 12), ('A25OE2QSYV6J38', 6), ('A1LJ3ZZ8SE27TB', 5), ('A3N71EAMDPTCRM', 5), ('ACM3Z9NLSE8S9', 5), ('A2WM4WFT86WGKP', 5), ('A3KVOGLD8EXYHH', 6), ('AH6B5K8MIEHT5', 1), ('A2210VSI92ULMA', 1), ('A194RHTL3MSZ3O', 1), ('ANRWZNXCG39D9', 1), ('A21EXGZ55YE7ES', 1), ('AF1H4YRBRMBB9', 1), ('A1HKBX2L0DV258', 1), ('A2CGTAVNTXWK1G', 1), ('A2M1BMO38EO4F4', 1), ('AYGIIQGSHKZNI', 1), ('A2X4F1HB3GUKWU', 1), ('A3DT4MFGSRLDX0', 1), ('A1NXOURF0IKMQ8', 1), ('A23ZJO4P6T871A', 1), ('A35QXCM88F9QR3', 1), ('A1L7MJ9I7VIVVY', 1), ('A1QIXPV1XB7GL4', 1), ('AZ6REMN5JER8L', 1), ('AJG3A1ZWNB36F', 5), ('A2RVITCCMBYAP9', 5), ('A18L1CVUIQRE9L', 5), ('A1284CBFWAE0KY', 1), ('A33OFMWDHGQ9P8', 1), ('AKK49Y5DWSEND', 1), ('AALHD0JX9OYOP', 1), ('A2KZPX6P0U79KA', 1), ('A2CTYUO0BIYMO8', 1), ('A1IRN1M05TPOVT', 2), ('A2C5V5VRE1FK3W', 1), ('A3GAXMGIS3AT6W', 1), ('A5N5PXC46GR1G', 1), ('A23W55M32D2AC', 1), ('A2R66DJG745VLN', 1), ('A3VQEZVWWELJTT', 1), ('A1GXSYZ9D2UPA0', 1), ('ALVJCD5NY28G4', 1), ('A2POBYA8R9ZG6E', 1), ('A3HED8SW5DDP9Q', 1), ('A371Z3LV0FLRH8', 1), ('AXO4PQU0XG3TG', 1), ('AXQWZTPGATGJN', 1), ('ALFVOKCROM3GK', 1), ('A1V19GIRJMH5LI', 1), ('A1141MQVW57Z5W', 1), ('A250GBP3UC7082', 1), ('A39ZWNAI7NQN90', 1), ('AZU2NHV73NE0U', 1), ('A1XRXZI5KOMVDD', 1), ('A3AQ279I3NTVEI', 1), ('A3EBHHCZO6V2A4', 1), ('A15J1EFSHW5WSL', 1), ('A2O58V9ZT5SU0C', 1), ('A2YB7DLC3FOR7W', 1), ('A1TYH3O0BVEIJK', 1), ('A5I457Y2KB94R', 1), ('A2Y8MLODHOO5ID', 1), ('AGNN4OA9GURO2', 1), ('A14DXI8FYAIJV1', 1), ('ANTJ60TOT08EL', 1), ('A23D6FB299KTNU', 1), ('ARML2K6WTFH3H', 1), ('A3S3VU4R6AYFW5', 1), ('A4A2TMVDXPUZ7', 1)]\n",
            "\n",
            "AQQLWCMRNDFGI,[('A2VMB1J58SUVMC', 3), ('A1GLL2VDHUWP5O', 3), ('A33OK99AQT4864', 3), ('A26NFIQ7KWI8Y7', 12), ('A2MN1QBKMG8DJ2', 3), ('ANF5SQBAP7GPG', 3), ('AJDUX0U4JGMY7', 3), ('AWIU562GSRC76', 3), ('A2VANMJUVLOE4B', 3), ('A3ARWF586TVLWB', 3), ('ACVDL5QRCOPE1', 2), ('A3FQWCPIPNNQYW', 2), ('A1XG5WYLFMRRX1', 2), ('A2KS0FVY2CNJ8M', 2), ('ANHL7BB84WJMF', 2), ('A37OYVYHR5U4NU', 2), ('A1FWFCJU2G7TRA', 3), ('A17UCHSMWI8USS', 2), ('AG8E2F0G98ZTB', 2), ('A1ALOTXWL76OY7', 2), ('A4UFU4WKYEUGO', 2), ('A3FBM0RMCMAABV', 2), ('A3BVN2QBNPBHCR', 2), ('A2IMLOJ2Z2QEU2', 2), ('A9NFFAZF3LIB2', 2), ('A1FHWJ7EFO3E3U', 2), ('AR40PQWBEWS9A', 2), ('AYUF7YETYOLNX', 2), ('A19D3N662QS9WD', 2), ('ACR4HKUT808U1', 2), ('A26PAN8REXYBYH', 2), ('A5K5DIDKAML5C', 2), ('A1JMR1N9NBYJ1X', 2), ('A2PL0US7RN67G', 2), ('A17M1HL6U2GS7M', 2), ('AUV3OR951650C', 2), ('A3CG6YLYZJXQG4', 2), ('A3FKGKUCI3DG9U', 2), ('AGVDI7RLT24WJ', 2), ('A1RRMZKOMZ2M7J', 2), ('AJ1JLGR8IDN61', 2), ('A37D2TGTIXRV2N', 2), ('APP35M28G2U51', 2), ('AJ1ZEMJSJYDOC', 2), ('AF3EWORDT15AU', 2), ('A15OAS39003U5R', 2), ('A3H7AOFQDPU0JV', 2), ('A1LJR5IS0B6ADX', 2), ('AJQDIT55SZ3ZX', 2), ('A3REK3OFONWB1Q', 2), ('A3I5YPJZMTG1QO', 2), ('AMFDSHV567OLS', 2), ('A10IKHRUSMKP46', 2), ('AR3EVUQF0AC7R', 2), ('A2T1TIT8QKEB5C', 2), ('A2L6BT1PVV9YN0', 2), ('A2LW5AL0KQ9P1M', 2), ('A1NC9AGZOBI0M1', 2), ('AMNNPDX9MFEUD', 2), ('A2RX62V4E2BF5Z', 2), ('A10GLTM1B7EHX6', 2), ('A1JZFGZEZVWQPY', 2), ('AFG4HIHMX312C', 2), ('A3GFK7F5IUF60X', 2), ('A2UQIQUOAB47OT', 2), ('AWJAVY2B22712', 2), ('ALRCAGJOJ9583', 2), ('A27GVNKXDNQVNS', 2), ('A35AO7QDM0R116', 8), ('A1TITOWKMCRDL2', 4), ('A386VGG59KAT3F', 4), ('A27C5U7IFTVXHP', 4), ('A2TKXQBQJ70PM4', 4), ('A1WJR10UO750SV', 4), ('A205XK8CEKJ1T7', 4), ('A2JEYFBK6CCWRF', 4), ('A1WD9DNSLLB9KZ', 6), ('A133Y864WS45YS', 6), ('A2XXUKVPM3FOIJ', 6), ('A3387UZS65PCUW', 6), ('A36E4N1DD2PG9P', 2), ('A306F2NQZU7SUJ', 2), ('A3PE2HFSE52PZ6', 2), ('A18CEGOR80OFT0', 1), ('A28AB7UQB3CGU2', 1), ('A2TD2FK1ZJ0SN1', 1), ('A35T8A43KFWD00', 1), ('AOSYECY7F2T3R', 1), ('A3S2YZ9NM7JDCE', 1), ('A257H6Z9047HHU', 1), ('A3WOFZ0N16XJZ', 2), ('A2WTIOAALC114C', 2), ('A2NDHOA1YBHC8P', 2), ('A3POR4Z3ZVKGME', 9), ('A26OE2P0ESL9PH', 9), ('AD7SKPC2E4FBW', 9), ('A2KUUWP4ZZMOBP', 9), ('AKK49Y5DWSEND', 9), ('A1FTO7E15UF6CS', 9), ('A1ZZMAVRCBL357', 18), ('A35YSZNOF1ZI6T', 9), ('A3P84TZX9X1B3X', 13), ('AAFRCVB8XENT1', 9), ('A12DVG1FD6DEQE', 9), ('A36HUF7VGTJZ8M', 9), ('A31W55J90T8NFF', 9), ('A3RQYPFPM58CKP', 9), ('A33BX5D4DKN65U', 9), ('A1ZVM1VLWAP0KS', 4), ('A38K7PYO6IX37I', 1), ('A2YFBDCW1AT642', 3), ('AW66FN3V7MPDO', 3), ('A18A49BBD7C4BV', 3), ('A1Z67Y8DWIGZXV', 1), ('A2D1LPEUCTNT8X', 1), ('A3V7XI8W1J34XC', 1), ('A3HNL3LQA9JJJN', 7), ('ACF0R20MDK259', 7), ('A2UQXRR458CWZV', 7), ('A9M022DZLXYFP', 7), ('A216YA3CYXIOGI', 14), ('AX668BUQRHI7C', 14), ('A37D5847LN3WQ', 14), ('A3KUE8XSAGRZLU', 1), ('A2O8401JREUCOJ', 14), ('A18OUQEK7IZ2F2', 28), ('ACDC5X61JY0NL', 14), ('A1LZJZIHUPLDV4', 14), ('A1MGP9NZQ5V7KU', 14), ('A3K3ID43G6A8UH', 14), ('AB3N9VP9H2NRW', 14), ('A2N1WT1EBTWTBV', 14), ('A2MZ6K6A57WP42', 14), ('A45VR3HRDC8F', 14), ('A2BRWNOXBMZVFB', 14), ('AKOCTZQVAFCOZ', 1), ('A1SLS8QNSHG2DN', 3), ('A3BM2A1XWWSNT3', 3), ('A1DQ8QH5HUR0W1', 3), ('A3HUK2D3SNXHMR', 3), ('AU8K3FDKCLWPO', 3), ('A324BF63FJNWC7', 3), ('A23DLQK1GK42SW', 3), ('A21NTPHK5DDB83', 1), ('A3S094EUUVQNE7', 1), ('A1KYZOAHH4TAQA', 1), ('A2F9ZV2IMAIOVH', 1), ('A19KIPIQPWT6TX', 1), ('A3GCZZPBNWNQ0C', 1), ('A281NPSIMI1C2R', 1), ('AFC9FWMETLUQF', 1), ('A21ARAG9AF5VO2', 1), ('A36GEDLB5A5MJ', 6), ('A3LN27742T0L76', 6), ('A1Q7A78VSQ5GQ4', 6), ('A2M8JQ3AME7878', 6), ('A2T6N2VLK0CTPH', 6), ('A2S4SW2K51Q16J', 6), ('A255ZW97CJPG98', 6), ('A1KSQOZY8AFWUJ', 6), ('A36E78ISDRYIF2', 6), ('A2QCE7L6GRE3MT', 1), ('A3SVN661DCM9MW', 1), ('A3TC6A6PQQG2VO', 1), ('A1QB2Y8GSME58Y', 1), ('ATHM0O7N22GTM', 1), ('A1DCGCRUQJVEEH', 1), ('A3J1NV9I9PHCRU', 1), ('ABMUKNMMLXM66', 1), ('A11AVMDWF6B94Z', 1), ('AR38UO36XB7MR', 1), ('A2HCZT0AO77KZT', 1), ('AD726MV06FOQT', 1), ('AOFKQ31NI132Y', 1), ('AZA00LCT5YMLI', 1), ('A1GFK8MTFXZWW3', 1), ('A1U50LBZWVNXBG', 1), ('A253XZIODFZJX7', 1), ('ABGKH1T5ASBWW', 1), ('A1Q4EJK0EMB88U', 1), ('AXRZ1LLRVPSHT', 1), ('A3DN3R1YWMAI4Y', 1), ('A3HJHV83O2U8BL', 1), ('A14HS0PAHYQVLE', 1), ('A2D2VHJEYNIMCJ', 1), ('A26F3YVN2N6QWD', 1), ('A2T5PIN2V2U325', 3), ('A1ACXZOUVYS3T5', 3), ('A16TMLWXLBCLLZ', 3), ('A2LQ494BOMR72G', 3), ('A107SVKYGPGBPP', 3), ('A136ONZPRXT76S', 3), ('A14FO1VXLQ74WW', 3), ('A14ZE49P6JFS4W', 2), ('ASA4IINUZV05G', 2), ('AGKSJ70C1ZBQD', 2), ('APKCNW1CVCES2', 2), ('A2SWFMW5XF45LL', 2), ('A34UVV757IKPVB', 2), ('A1WAEATUU7F3GP', 2), ('A2M0RGVSV6YCMZ', 2), ('A3E9WG5BEAFF3T', 2), ('A3GMRYV7VAYK5Q', 2), ('A2AOW20EGSCAY2', 2), ('A265NE6H6LYX87', 2), ('A1912KE9NOL3AC', 2), ('A3OSHB0AACYN95', 2), ('A1T61QP7QHYBRQ', 2), ('A3QDBUDXLHUJX2', 2), ('A244CRJ2QSVLZ4', 2), ('A17771LTRWSKQ5', 2), ('A3HAC5PSLMHMR7', 2), ('AWKOLLCRFFZAM', 2), ('A16WPA6JV83YXT', 2), ('AYNAH993VDECT', 2), ('A1QCUMGX7UHFL5', 2), ('A2D9N670IKJ2BP', 2), ('A3Q4TYJVAM4IRM', 2), ('A1ZZR25X0CNOJX', 2), ('AIFLY2HF8NS8U', 2), ('ARTST8JB04TBC', 2), ('A3P8ZDHC7XSKSE', 2), ('A1GUX6R8DV3ZLY', 2), ('A3D9NUCR4RXDPY', 2), ('A3N4VTNFPMTHEF', 2), ('A3EKC0CWQQRXPJ', 2), ('A293HA28PN3VO4', 2), ('A1B3GNO9C8YX0N', 2), ('ASEBX8TBYWQWA', 2), ('A1SI2993YY7C61', 2), ('AL6CEWLV2JB90', 2), ('A3MFORLOKIOEQY', 2), ('A2E03PQ3UH0RVD', 2), ('A1KDUQ2HU0WD68', 2), ('A3SMR4HRFJARSC', 2), ('A4JHEO7H330AF', 2), ('A3AOPVQ7EZHTWA', 2), ('A720S06Y6KV49', 2), ('A344QL22NHKTY', 2), ('A2QBQFQTRG3KCW', 2), ('A2PU80LCKRMC9X', 2), ('A3K3SE4RK846WO', 2), ('A2IUEHSJE57RQ0', 4), ('A1NPFM9604UR9L', 4), ('A2SMNNJS6UOERC', 4), ('A241HDIOHZJRBR', 4), ('A2SZLNSI5KOQJT', 17), ('A281A3U1VI81FS', 6), ('A31YQGZMQTN8VM', 6), ('ASI37ITR8FEF7', 6), ('A1MNN0ZMHYPJDU', 6), ('A1IWT6KM1X8PNS', 6), ('AW54IZF9EDDU', 6), ('A1LEI352C4UT5P', 6), ('ARQHZLI66U4FE', 2), ('A3VWT7U78THWOA', 5), ('A3DXYY89FAKK9H', 2), ('A347B145JBAVMJ', 2), ('ARWNOZQNCO7YW', 2), ('A3CIRHVBASMIPB', 1), ('A1PTUO5A0GKNSF', 1), ('AR5OIXI3H2MLR', 1), ('A36CVFLUJAADLZ', 1), ('A294I67LEMHMIK', 1), ('A31W2DOJFO44S8', 2), ('A33UQZ0FRBIZUM', 2), ('A8LE1433WIXI1', 2), ('A1ZQK2VJUY3C8I', 2), ('A3JLHU4R6NB8BU', 2), ('A39T5KIOR3VBEP', 9), ('A2H4VXPVPO9V4X', 9), ('A274OIG0K3Y411', 9), ('A1J1XVORAUYTTV', 9), ('AA10EFTRAL2CK', 9), ('A38TAEK5BQ0L8Z', 9), ('A1NLRUENKRUX3E', 9), ('A3KWN5WDEUEJ9V', 9), ('A1KE7XXXLYIXL', 9), ('A38NL22J79JOH1', 9), ('A39YGYJD74GNLO', 9), ('A3Z9QN0RCOHEY', 9), ('A3F8X31S4R8IXV', 9), ('A336QIZU3I4C3Z', 9), ('ABDYDR7003IRO', 9), ('A35OHTADORNP7N', 9), ('AY2K56GDX6CBD', 9), ('A31GKRAQW2HT4Z', 9), ('A1379FWJ8KNUVG', 9), ('A1Q3VZH3TP8DFN', 9), ('A19N301CQ8IWW9', 9), ('A3R7R8ARVN2P3D', 18), ('AJD41FBJD9010', 2), ('A1PXLZ6FPM9LDI', 4), ('A3DZ14V8VR6XZD', 4), ('A19H4VK9USAPKP', 1), ('A16EKPCMQ5XXR8', 3), ('ANBKSONWND1QL', 3), ('A2GWZY61B3N929', 3), ('A1MDPTPXZPWIVU', 1), ('A2OG7QNARO4Q4J', 1), ('A23GVPZJLVGS4N', 7), ('A292V1K7VLNQF0', 7), ('A3P3U6G39ROEMO', 7), ('A2OP7P3NZX8ARV', 7), ('A2N10M1J3KJZK4', 14), ('A3MPHBL698EET7', 14), ('A2F7GUZ4UMVHFL', 14), ('A3E9OJWHMXMYYF', 20), ('AKGQ6RM68SQY1', 14), ('A32NC2UF34RJQY', 7), ('A3VKBFC5K2INR4', 14), ('AF7DZ97VNSEWN', 14), ('A2U3W2PBPO5YQ', 14), ('A14TWVGTN8AHNW', 14), ('A16DOFSW5GGV99', 14), ('A17GK9E70O7Y9R', 14), ('A1FTHM1279ELHC', 14), ('A1F9Z42CFF9IAY', 3), ('A4NSQAUDHMEP6', 3), ('A3ADMVV5J963C4', 3), ('A3AE4G41HPLMP', 3), ('A1ONO5WYXQ3502', 3), ('A250FZRX8QQ3F9', 1), ('A124ZEONXQCQ3Q', 1), ('AQFY3681KPM3V', 1), ('A25UZ7MA72SMKM', 1), ('A16W3H8YIGQBH2', 1), ('A13PSDHYHDANHJ', 1), ('ACYR6O588USK', 1), ('A10KIIMLNQKIB', 1), ('A2VNN18V9DZ1D0', 6), ('A2Z6TO6R3J3Z5N', 6), ('A1X5JJCYUW2X94', 6), ('AYB4ELCS5AM8P', 6), ('A38MZTE6M6Y6RR', 6), ('A2PEC4HZ209QGP', 6), ('A2QDOJFFLFGF18', 6), ('A3KN3UXP20LY09', 6), ('A3432ATOTRMLW9', 6), ('A3PZ4AXTY9J1DZ', 7), ('A1INLQGL1U8EDF', 6), ('A1AQ2W2R4SOVGN', 6), ('A1ZX6RUBAI2YOL', 1), ('A2MKPVVHX9W2NV', 1), ('A1UYMQE9LNAQ44', 1), ('A1TJT6GXDGNN8Q', 1), ('A2ITY3O2UPJLN8', 2), ('A1D9CI50OCJFDH', 1), ('A314Z96YVEZEQE', 1), ('A1XTC50067UZSW', 1), ('A2F4E8SC8BA9N8', 1), ('A3SU7POB0WKY63', 1), ('A3TVJ2R0CNT7TW', 1), ('A3VKZDVLQMU2V8', 1), ('A2YK3OALZ48XPF', 1), ('AFS9D45QDV08Q', 1), ('ANYURC9YVOX93', 1), ('A77F7LYGRR41G', 1), ('ASCVXRKY65RWQ', 1), ('A1IFY13C3769VO', 1), ('A29LABZUI8XWQ4', 1), ('A1QS34VJQAL69T', 1), ('A2LT2VIL8ZNYK', 1), ('A3L2BVGV2SEUCS', 1), ('A2PRQHCIDISMM4', 1), ('AKMZ53TCF7HOO', 1), ('A1QPNVOCHATUJJ', 1), ('A1SKHKAWOH28RN', 1), ('A3TQXCBXK23VBZ', 1), ('A37O4F8I1EO1HO', 1), ('A2BTECBVKY0ZM5', 1), ('A1JK3X941H3CKV', 1), ('A1XMUMUXUOZ7S5', 1), ('A17Y7T2OX5FSST', 1), ('A2XQPTN2WMGQKT', 1), ('A1SLZ8ZW53R4SG', 1), ('APEW4NQ2BUHKU', 1), ('ADLVFFE4VBT8', 1), ('A1HYMQV1Z5GLGD', 3), ('A18S1559XJID18', 3), ('A1OZONYCJYYK1I', 3), ('A8OHJUH0WSPVI', 3), ('A3KCWQMEOLRC2U', 3), ('AEGL3OL0L6C0B', 3), ('APWK2EKIA0PVN', 3), ('APP8XWYYV4PAA', 2), ('A3Q1XEWMYBPD9K', 2), ('A3J1OG086O1UEV', 2), ('A2UBSGFCP2QFNV', 2), ('A2ALX5U55NTGTL', 2), ('A16EAIXEWY8I21', 2), ('AZAVU4V0J8S4V', 2), ('A38ON1MOZNBCGE', 2), ('A19XBW5WUDH1Z', 2), ('A3JPFWKS83R49V', 2), ('A2FL580YGSPRV3', 2), ('A1C4J5MRES1KRK', 2), ('AM4RTAAJ5CV4I', 2), ('A2W0XCWOK3MW6F', 2), ('A7OTTM22AV2VR', 2), ('ALVYD6HBLYI0W', 2), ('AHQRU3MRORIWQ', 2), ('AIST7V8XF4A18', 2), ('A2XXTGHE0YVZSZ', 2), ('A3U41ZL33SS92P', 2), ('A1ZVMTIRYZQDL4', 2), ('A12S8UQEIPZJKE', 2), ('A4WEZJOIZIV4U', 2), ('A3U1WPDQLP9CQ', 2), ('AM8J1UVGVYAL4', 2), ('A2GA64WZK8PKBC', 2), ('A19GSC3QMK694Q', 2), ('A1FDSZISWIXH1A', 2), ('A3PGGI7A6XCNF1', 2), ('A6B92PTV0Z1SU', 4), ('A1SINHLUYMCCRK', 2), ('A2GY5WCU9PKTMI', 2), ('A12DQZKRKTNF5E', 2), ('A1VQHH85U7PX0', 2), ('A2TO2BN3P4C00L', 2), ('A2Y2T7UTIGG1GJ', 2), ('A318IDAWJ9ZYAY', 2), ('A3QMIWXU2RGEMH', 2), ('A3COBFLNYK52TE', 2), ('A3A90CELVLOUP6', 2), ('AZ0PCEZUTF5QO', 2), ('A1T8J9GGK7WCFT', 2), ('A1JOANG98KBFKU', 2), ('A3N6PCOSINNGFF', 2), ('A26KHZE0HTS057', 2), ('A2RQOO8VYAEZZG', 2), ('A1XBHP8UAJ303T', 2), ('AH9MUK2Z52V6N', 2), ('A3AAK33K3BUUTM', 2), ('A3I9MCGO36KZ7V', 2), ('A350HRB16YUX9P', 2), ('AHFZOJAV889Y9', 2), ('AOJP1MQSUVCI0', 2), ('A2O9HU1K7TCF7B', 2), ('A3GWFJ48QPA2IR', 2), ('A33J2VWP9HXDU9', 2), ('A3PLXROA2VNLHA', 2), ('A3IMK08UX0I46A', 2), ('AW5XVB0OM0O4L', 2), ('A3UOYYQS5Z47MS', 4), ('AL2MYSBH9I40I', 4), ('A2R946H6OFWS6U', 4), ('A3BILE618Q1YSD', 4), ('A3TQ6MC20Q74SL', 4), ('A3BD4SEQPP7RJW', 4), ('A3FZ0GXBA9QTTH', 4), ('A320YYMCLRJIZB', 6), ('A3B1NTXQGP6B0F', 6), ('A2II54B3VA45LN', 6), ('A2BA6U9RUEQ6JM', 6), ('A7YSBE9THMR9S', 6), ('A28K0VXIINROQ0', 2), ('A2X4SUKR9RJWSH', 2), ('AURD7KZWOM0ZP', 1), ('AROE18LXUMV20', 1), ('A2X2BNEU0XO8PP', 1), ('AUSYQNS8FIIXL', 1), ('APGEXX15DLCAC', 1), ('A1GVKV57KV8GWH', 1), ('A25DF9WKN7UN8N', 2), ('A1JEXR3E3E8T2G', 2), ('A12RHO2PMYGC66', 2), ('A3JNE30L9G7VA1', 2), ('AW68KVDV7BBRS', 2), ('A13SDLU8YOQRUS', 2), ('AJS7THAS9CZ59', 11), ('A2YZ22IRMOSB1I', 2), ('A1T5M4BXCFNUNJ', 9), ('A35FN1VLTTPT3G', 9), ('A2FMH70WTSIDF6', 9), ('A42G11QD33NYH', 9), ('A2YAOCZ9DT7I01', 9), ('A2ZAO73BLTJ69P', 9), ('A1WH998KDXZB7A', 9), ('A29Q8UIT5FCBV', 9), ('A2PMQ8D3JEBTXG', 9), ('AP03SDCDB6RBD', 18), ('A1SZG52GFZYEUX', 9), ('A194XR1O94JG3T', 9), ('A1XF1C7TEHCFTK', 9), ('A27YKN5IIUEILY', 9), ('A3VR5ETUZKF3IN', 9), ('A154WMWOARJHLI', 9), ('A2NVX117EFIW7Q', 9), ('A2K04TXWAV3PZ3', 9), ('A19P6UUJKZYC6G', 18), ('A3BBGEQ5YVI0YK', 4), ('A3KD1TAL3HU527', 4), ('A321B5DIQCYBLK', 4), ('A20Y3683HW66ZZ', 1), ('A2RO3TAQZ08G5U', 3), ('A340XCSAPCVFLW', 3), ('A1R8P9R8GPEHHB', 3), ('A378O5BNLDWXFA', 3), ('A30579Q7B2GVEY', 3), ('AIODQVA7W10YL', 3), ('A3M0CZU2P6S1BO', 3), ('A1UVRLEBKPH28G', 3), ('A8PU1ATHQNL3T', 1), ('A42EUG4CVN0M', 1), ('A35A5S6H1WROO6', 1), ('A2OVRR1V0AKQX3', 7), ('A2QBXMYLRWGKV8', 7), ('A86BBGM0BWI3L', 7), ('A23MZH48RYHI4Q', 7), ('AR7TXBRR5M79V', 7), ('A3OX420994NQCY', 7), ('AT997T4MTH9B7', 7), ('A1CRTL7OH6NFU8', 7), ('AYSEXV27DPQ3E', 14), ('A2J4K5SCKZH38C', 14), ('A16Q0OV7CIPQC0', 14), ('A18HMSRFVY0R60', 14), ('AUAYHALOQLCQJ', 14), ('AISQLBDGS2KXR', 28), ('AY52TNOUURNB8', 14), ('AGQAXW1RV6HC4', 14), ('A1DHRFS0EIARKR', 1), ('A1LMIDKVP9Z337', 1), ('AC84MAPKQBYAB', 3), ('A1B2U9EK3V1NVO', 3), ('AQ1WOPVHDOUFK', 3), ('A2ZHJ8274FANA7', 3), ('A3GWHQZRN9Q3AN', 3), ('A13853O9CBLTEY', 3), ('A2DJH35WP42ZFL', 1), ('A3OGSZ7H9AC7ER', 1), ('A11APAU5E90K7O', 1), ('ARGLKALX3ZN33', 1), ('AKXE1B1789TDQ', 1), ('A2OHME0SI2BWC3', 1), ('A1K348RCCVNB1A', 1), ('A1B5SLCWX1YKM', 1), ('A21YBJ6XHUCLOB', 1), ('A3HTU4E0NNOUIW', 1), ('A2RQYTS3QOOSFG', 1), ('A1MZZH3M1IYZ2T', 6), ('AXJ1QYBUL86ON', 6), ('ALFMWJZ5KV4S1', 6), ('A1C5BQGQCR1HRP', 6), ('A3W07LAP94E7EQ', 6), ('A33K20V4DNLVRF', 6), ('A2NJUH5SRDE1DB', 6), ('A22VNXHU6IZ5MT', 1), ('A3S9V4BY9AAXP7', 1), ('A3BTL4FV6ODKAT', 1), ('A2YCCXZ9122GH6', 1), ('A1K4O6ALQ6U1RA', 1), ('A3T2J7YMQT11Y2', 1), ('A26P1QEGR8RIY1', 1), ('A2WHHLDZCT6IEC', 1), ('A2Y3VYHJQ6TZ64', 1), ('A3FHWQ3H3ZT2YE', 1), ('A2SI78R33PC5JR', 1), ('A1UXA20VPHL8K', 1), ('A2YOHNAZMPS52D', 1), ('A17IRFWJGUMH90', 1), ('A2UDMLSQY6YVA6', 1), ('ALLS0MR9PA34F', 1), ('A1A97CBY4L4R8I', 1), ('A309FW5XGW5BYL', 1), ('A2171INTT3VU3S', 1), ('A3C6M1APVEHL7Y', 1), ('A39IFXQMEX7YKV', 1), ('A11VE57S981395', 1), ('A2OUT0KRXYP9SD', 1), ('A27UFZ3M3QRW0', 1), ('A1I7VEDSLB4WT2', 1), ('A1CMVPAADKG71V', 1), ('A35RRV709XXNTO', 1), ('AZJVJQXVFA25D', 1), ('A1HZQ9L0MGWZZR', 1), ('A1N0ZBO8NGNYXQ', 1), ('AJT4GAPCIZFH2', 1), ('A28BSV6KDF862D', 1), ('A1BCMO99UPFQMS', 1), ('A3CCKBF8HLSGP1', 3), ('AA7STIIEST2HW', 3), ('A1K8B2QIQ3ZRWA', 9), ('A2AM935YUELTVQ', 3), ('A3MYNUIK9ZZHHZ', 3), ('A1BQDW64U8VMPW', 3), ('A288G5GZV0A3PN', 3), ('AP4N2279BZFG2', 3), ('A1857CFZ2N5LWG', 3), ('A1R7E9MD733HX', 3), ('A6YQZ1KCEINR2', 2), ('A3QYE95SH1KAW2', 2), ('A2SDRCBPIAXVDW', 2), ('AC7AY7GU4GKID', 2), ('A2TCOT455J0OUJ', 2), ('A3NZVCKY68MUFJ', 2), ('A3T3S48UAVTUE9', 2), ('A1EHTFVSD0H7I6', 2), ('A3882RXW8MO4J4', 2), ('A1DW1FK1H3F2TM', 2), ('A1484U2Y4YFX2R', 2), ('A8KJS2P6E5DCB', 2), ('AHPV4F8IVSC39', 2), ('A1LFXR2GB56XWA', 2), ('A1BTG38XSGYLW3', 2), ('A21BVL7PKG9BX8', 2), ('A2SY92ZXU2FOEU', 2), ('A1UKA7HUAQAMY', 2), ('AHKPZ11JT110F', 2), ('A25C5MVVCIYT5D', 2), ('A2UOHALGF2X77Q', 2), ('A3A15L96IYUO6V', 2), ('A1UQBFCERIP7VJ', 2), ('AC62SNVRI158P', 2), ('A37NHGD0WTRYFH', 2), ('A2LXC5ZHHP0WXP', 2), ('A1BK60GZ4QME6I', 2), ('A1EKF9JFF1XWSV', 2), ('A2SSV6KM3W1VFD', 2), ('AFM7DWQ762149', 2), ('A2IT7S59GSASN7', 2), ('A2YPGQH2UGGTM2', 2), ('AJRFZ0VZ0LD26', 2), ('A2BZ7MYTSNYMEW', 2), ('A146H6A41B26QT', 2), ('A6PGY3XAJSYH2', 2), ('A39650P2CZUUC9', 2), ('ABC68JUCPTVOE', 2), ('A2KAVOGWK3BRB7', 2), ('A3H8PA7AG48K33', 2), ('A356RFKNIG043B', 2), ('A25C2M3QF9G7OQ', 2), ('A3NG7X4APIV649', 2), ('AVFNR0RCQB8Y9', 2), ('A1LH6RF4UN9VI6', 2), ('AO2EURP2Y4JZM', 2), ('A3JH18T58CY65P', 2), ('AY1EF0GOH80EK', 2), ('A1QO88MU0PYJON', 2), ('A1B2ACD289HVFT', 2), ('A3R33KMESG0XGQ', 2), ('A1M9126YPQPS3L', 2), ('A1TKM36EYEQNSM', 2), ('A1TPW86OHXTXFC', 2), ('AKJHHD5VEH7VG', 2), ('AKB2PYODH0TKS', 2), ('A2WSAGFJSQC1YF', 2), ('A13MKSASQ6YWL7', 2), ('A1VLVWTLV3LVHR', 2), ('A73DFWJE0CGY6', 2), ('A1DQHS7MOVYYYA', 2), ('A37WVR9M1STQDU', 2), ('A100WO06OQR8BQ', 2), ('A7EU2BWLLCJY2', 2), ('A1A1BM6N28X9J0', 2), ('APUV3Y5KYMGTK', 2), ('AWXE0WM5RIWZW', 2), ('A29FJK41SRREUH', 2), ('A8INT3NMHRUS4', 4), ('A2KX0E2FQZP654', 4), ('A1KZUXE70GYNGO', 4), ('A2QGJM3D619WTX', 4), ('A3CDDVCIGAKR8L', 4), ('A3IESLDKKVX7PR', 4), ('ASO5LSOMGTXE1', 4), ('A2HEFKR3769OMM', 7), ('AAJR3ORF2ZQM7', 4), ('A22PH12P71FH93', 6), ('AFKGQECO1APSS', 6), ('A1R6LZ3ZQUN5AM', 6), ('A2ED5FA94BL2P1', 6), ('AG866BXSQJM28', 6), ('A1RSICFMNOPLP7', 2), ('A10BFT1541OZJQ', 2), ('A3H81VAW2WXIRR', 2), ('A2B6A5UDN6PZY', 2), ('A7Z1Y5L12TON', 2), ('AIVXRWI3EJYN3', 1), ('A3OLR5FOF0AJV', 1), ('A3TRWR80K580WS', 2), ('A1E5OIQ13B7T7W', 2), ('A2FAGW75MOJH7K', 2), ('AY5XJY10CPAXP', 2), ('A3M3CZ010EY607', 2), ('A30J1KT9PVD2L', 2), ('A1JFOQKALAXP4P', 9), ('A2GYDZ6RN1UWJM', 9), ('A38WQC8XIEVA64', 9), ('ATQCO4O4U8E78', 9), ('A3ICEX9YGL38R0', 9), ('ANU97DL0YU2GC', 9), ('A3MVXSMNSKKLCN', 9), ('A3T1MKRIGDGEQ', 9), ('A1Q0KDV0TFU1OS', 9), ('AJZ41FI5FK2CH', 9), ('A36E05Q5W3M6DT', 9), ('AQ6SHOW0VMZGF', 9), ('A1KJDUS91L5OOE', 9), ('A25SQ33WVST1HV', 9), ('APYN2VSN3C9PM', 9), ('AGDLI9B52XZYC', 9), ('AB0EQA6NXOYZA', 9), ('A1KLHGBZC9PHGH', 9), ('A1QH0VOIN1HEKM', 9), ('A1SUGP9Q67CP28', 9), ('A2C1NOC91B4F7O', 4), ('A10I6CVBTPABO8', 4), ('A3FZI0OOGYEDJO', 4), ('A1W0F3F6EXIAKP', 4), ('AZ64S79SXCSSX', 1), ('A12NBT9SS76H8Y', 1), ('AUOVN54L9K5QD', 1), ('A19KIC6KDPITTY', 3), ('A3FIBMRACIHDVR', 3), ('A3ATHH1BJ0W6WK', 3), ('A1DTNAA1FJS01K', 3), ('AI0BCEWRE04G0', 1), ('A3KQ6ZFR5DAE17', 1), ('A2VR8L92AAC79J', 1), ('A2OUQIMO57QH7V', 7), ('A12GOUX0P09UF3', 7), ('A2BD62XBUIS6KL', 14), ('A2GE5C1WR3MACR', 7), ('A1TN8WPRUTRM2A', 7), ('A164Q95DLO5REH', 7), ('A3HJXOFTS7CDGR', 7), ('A3MQSH14C7AKKV', 7), ('A33N7W0TZJJX22', 7), ('A27E2IK34WGL7C', 7), ('A11CMBA3EUZSYS', 1), ('A3L5L1NZIKLSJU', 14), ('A1JBB01LAK69LV', 14), ('ADS5APY1NKTL4', 14), ('A3M174IC0VXOS2', 14), ('A28870VSBU9LDQ', 14), ('ACJW2YSBG2HA1', 14), ('A2MF3JFBE4X915', 14), ('A24TI0FXW07810', 14), ('A10Z8K7CVE3VHZ', 14), ('A35WMQSBO7LZFA', 14), ('A1R5Q4GXSYSKPH', 14), ('A3NVUUYGCD4UXA', 14), ('A2TP8VCDYHH3MT', 1), ('A2KSEREZAWFOF2', 3), ('A35M4OUIVXUG9T', 3), ('A3LNDFDCFFPA12', 3), ('A278LW7JOMC2II', 3), ('A3NYIFQRZN3DOP', 3), ('A2W1A5GK4A03ZT', 7), ('A7OQRXMJQQL4B', 1), ('A3F48APYOWPS2W', 1), ('A38T03FJDWLWPQ', 1), ('AVA91NAY6GUIZ', 1), ('A2W966929PYNUZ', 1), ('A3UT1QASGQKZVV', 1), ('A1KV12GYEML1OF', 1), ('AAHIJ5YWDK7NG', 1), ('APRBYS37IUI24', 1), ('A3V2OXRI5EBCWF', 6), ('AOEMTIP0P73YI', 6), ('A2NHN5V5JE9JTH', 6), ('AGSKYC7XSUAQN', 6), ('A2YMCPP3KW9IXU', 1), ('A2AVYSXICESSTK', 1), ('A1JBZ635HF1SVO', 1), ('A2HLCQIR8ZKFQ0', 1), ('A32NC2EPI861X8', 1), ('A39G26LKBXB83D', 1), ('A1TQ5893PGKCY0', 1), ('A22EU2W27JHY51', 1), ('A31V51NELWY2Z8', 1), ('A157YSLP5E81GG', 1), ('A2TLR9F8SOMGD2', 1), ('ADB0XHAHI0V21', 1), ('A244C96I6YCSHX', 1), ('AIZ6SVHMW2W08', 1), ('A2FNRVEFREVGTK', 1), ('A3JLO4L3R6EMBB', 1), ('AZFH4ELUXKG7J', 1), ('A3GJQ3W0T0KWEO', 1), ('A20YX22U175VNL', 1), ('A2V4UPWD40198X', 1), ('A2GPZY8M7WZ300', 1), ('AGZ3SC0XX4A8U', 1), ('AXA0H30103XBN', 1), ('A1L85O96S49ID9', 1), ('A33CQ1X5UQU50A', 1), ('A1T4KRDI9WWKTX', 1), ('A12I5VI55N7H1B', 1), ('A3C4JUPUXD3L5S', 1), ('A1RDCXLKFAMFB2', 1), ('A2Z4TPI6NM1GLB', 1), ('A3QK8STCC2HC7U', 1), ('A36RD36M6VL3JT', 3), ('A1CA6V1GE04NDK', 3), ('A2LVFLPZ6EHQWR', 3), ('A1O299KDNQMPDY', 3), ('AQLL2R1PPR46X', 2), ('A2UTZ7HH4UKDZW', 3), ('AJIFXQGXGZ08V', 2), ('A2OJCTT5WLB2HR', 2), ('A1ZA7GMVMCO1GF', 2), ('AG90OGHDGOOVH', 2), ('A1FCQI065T3HYH', 2), ('A209D61DH0HZMA', 2), ('A1KI3173CO6TK2', 2), ('A3BZUQXA2QHDI2', 2), ('ABNMD6670TV53', 2), ('AATKF0HDBQL86', 2), ('A3HLLKGK6GTUPF', 2), ('A28I98PKHZZKVB', 2), ('A35V32HZEGZH04', 2), ('AKR4DH6WLF6GG', 2), ('AFDJGY68CQL2X', 2), ('A4VMQ6ZTSXSSL', 2), ('AYNRALJ4X1COS', 2), ('A3G7BEJJCPD6DS', 2), ('AM8W6Y3HVXLZT', 2), ('A1N655X9X7C6QY', 2), ('A33HIQR1X1G4GI', 2), ('ACAXV4V8PBCE3', 2), ('A306153FTKS9PL', 2), ('A30QUYVR42M46G', 2), ('A1LP1PGQLL9B5F', 2), ('A2XAKGRUHIE2ZA', 2), ('A10E3F50DIUJEE', 2), ('AY46DEOJJYFTW', 2), ('A398R165PXFOSS', 2), ('A3TIL1PC2ZE97B', 2), ('AOXMWBNDZDJ9L', 2), ('AOODNGLAEDN76', 2), ('A3PJZ8TU8FDQ1K', 30), ('A1TFMR7RE985MF', 2), ('A96AUNSF6GESO', 2), ('AR33KU52LIBF1', 2), ('A5BJMAHZWGJ7N', 2), ('A1ZU55TM45Y2R8', 2), ('A39E7IWNHY62JT', 2), ('A29FP47A13W3ND', 2), ('A2VHQDJBZH0Y7P', 2), ('A7UPJYPAH73NC', 2), ('A2QEZU2SHYBHM5', 2), ('AFOV2K4F0MDTZ', 2), ('AUITG1DJ3QUGK', 2), ('A30ODR6WBE61UB', 2), ('A1LKOIZXPQ9VG0', 2), ('A3TP31S61PPE3G', 2), ('A1V3TRGWOMA8LC', 2), ('A2VRAT69JDAD3W', 2), ('A3OO4WIO4SKD55', 2), ('A3QYL6QGXQE18W', 2), ('A1JUBRIZMO0RJV', 2), ('A2H1W8V6R9TJ9E', 2), ('A6QG9LM5WL0AQ', 2), ('A36CTP2YSXLSFV', 2), ('AZ9HGPJ25KJ8N', 2), ('A1J75JJ0Q2OEJN', 2), ('A1IL6W1NK05UW9', 2), ('A2PA2K3GWOJ7YD', 2), ('A3VZH0PWLQ9BB1', 2), ('A3QDDEW6RXVEAY', 2), ('A2YSTR9QW1U95G', 2), ('A1GWDRBUMQOCRK', 2), ('A1O97G2QQSM41F', 2), ('AGM70PNLZAE6F', 4), ('A6247I29BYSKX', 4), ('A2AD3WNP9WXTUF', 4), ('A2Q3E4Y8M535OQ', 4), ('A357BQRSVZ7SZ', 4), ('A20K07R8ZHNK4U', 4), ('A3T0SXNEYSNQ43', 4), ('A1XPT6TAPFPPEM', 4), ('A37HHDBS8F7BEH', 4), ('A1F8U91ILG6IN9', 6), ('A2FFF324R3GUY', 6), ('A4LJN46WA9U9F', 2), ('A3ERMLQUKWA9QY', 2), ('A2RH2CLA8QPMM2', 2), ('AMKA9TCGSAACY', 2), ('A34CE623TDL7LU', 2), ('A1R0V29WN03G31', 2), ('A255EVBIH32V6S', 2), ('A2C6HYAPKIXKTC', 2), ('A3JRL3JBWBKCDC', 1), ('A18F6EPN8MVV3Q', 1), ('A31224BTBB34TN', 1), ('A17QQK1A0JS4XK', 1), ('A24R0TEHT3HW64', 1), ('A22UW74Z0JJ18D', 1), ('AA8ZN6EIRWKME', 1), ('A2E1O1W06SLQJR', 1), ('A35AQQTZ53D0XJ', 2), ('A23QE91BT7CQUN', 2), ('A2ZL60I0RJ386V', 2), ('A3FTZHYUQ0SY90', 2), ('A3KSV9A3PE3M3M', 9), ('A31LWRGL7B9Y7P', 9), ('A2RB1UIF3W1G8C', 9), ('A3T4UQRGKU4SPG', 9), ('A3W0C717SJHQ3V', 9), ('A12KUNIKXGX3U1', 9), ('AMEEXXHSFDS3Z', 18), ('A1AOCVNFLPJVUV', 9), ('A2CR1R7VU63YPT', 9), ('A33KM1JMS3TTXS', 9), ('AQ88ZVCT54QIP', 9), ('AYOMAHLWRQHUG', 9), ('A1MHY69POZ8GCK', 9), ('A3K9YKYVGEENPI', 18), ('A1VHSDCIOI0MRT', 1), ('A2U95P6RF855IL', 4), ('AFDSVO1WILYGV', 4), ('A1V4SXDN36QYR4', 4), ('A2OOQG6ZKW7Z6Q', 4), ('AKMEY1BSHSDG7', 16), ('A1V0JYJ45H88KK', 3), ('A1YPEQ5J7ZDFIB', 3), ('ATCLGTOJ402R5', 3), ('A3MEWOJ3DJYVBK', 1), ('A361PLXEWB9UC1', 1), ('A1HD0RXORQRXD6', 1), ('ARQB38AZJBQN0', 7), ('A3EUDRID5N2JTK', 7), ('A3MLJMUBX0K5U0', 7), ('A2W9BX9RCAC4I8', 7), ('A2EBMYVJAEIK75', 7), ('ADR8NNHDP3FV1', 7), ('ABU6UNWUJ2JK3', 7), ('A36MP37DITBU6F', 15), ('A5U1K1NRQEZW9', 14), ('A36QQYEW0AMJEO', 14), ('ALIUBH6ZKW62', 14), ('A106ZCP7RSXMRU', 14), ('AQIA5GSVGL75I', 14), ('ALL51PH9IIA5X', 14), ('A10B49ZO696DLO', 14), ('ADCY0I8EGWCGO', 3), ('AZ3GK5ZX3SVKT', 3), ('A29LJRFCNKWBFO', 3), ('A3IBGWP53XMJY5', 3), ('A30HB7DB707URX', 1), ('AI50U1IZTZ1X2', 1), ('A3MDH1WAITZE00', 1), ('A37LDTB2BGV1JS', 1), ('A3HM6GMPG6ODVW', 6), ('A3J171NBGIBYAW', 6), ('A3ARC3UIY3Z1KQ', 6), ('A2CCRV4PAOSYQJ', 1), ('A2UIUNPT45MCES', 2), ('A3PAS7E2MQBOO', 1), ('A11U56TG1EUJRR', 1), ('A27C53DD0FBT4N', 1), ('A3N18I8IJ4JTWB', 1), ('A3VW23PTRG5MFE', 1), ('A1M5MJUPPYK5B4', 1), ('A2P76SJ5C6J2RK', 1), ('AFKQL27JDWSFK', 1), ('A4SYNT6LR2KBK', 1), ('A1DMGVJE1OCY87', 1), ('A2ZLMN5XY0E4TM', 1), ('A7WV4HI6C8WRJ', 1), ('A3P5DQRRJ4A967', 1), ('A2I572AHF1KIB4', 1), ('A45RNKZS6TVHI', 1), ('AX87K2A2FNOFT', 1), ('A1TSBW3E93C6BD', 1), ('A2C0BL00XDA1NP', 1), ('A3PRYCOMVWQIH7', 1), ('AZV26LP92E6WU', 1), ('ADQGF68CXJOTX', 1), ('A24UY2BFLGK163', 1), ('AN0K3EZIGW9FG', 1), ('A13HRSMJ5TOWEZ', 1), ('A1UOWMQBLCVC8L', 1), ('AA2Z4HLH7LUHG', 1), ('A33B7U32Y9MW3V', 1), ('A1ODOGXEYECQQ8', 2), ('A32XQ68I8F94GZ', 1), ('A30LQOFSD1KV9S', 1), ('A2AGMN6B82T749', 1), ('A2MP7KWDQ2JVT', 3), ('A311QDUHEORR5P', 3), ('A163RZETDROJL5', 3), ('AVN3JX894CEZC', 3), ('A1VU80J9UKKFYR', 2), ('ASAWQWJ7AF5NF', 2), ('A2B3A8NQIHITO8', 2), ('A15ZRSJYUSQQ9N', 2), ('A3N4CUW4UYC9I3', 2), ('A381MT950I6KRL', 2), ('A2PK64OVZA1U8Z', 2), ('A3K93OWHKHGI9V', 2), ('ADY836HK6QSYR', 2), ('A1OA65HXZIINHR', 2), ('A21W7ZA2FZKOGP', 2), ('A3HRDRQ5VAFPQS', 2), ('A3TX46J8SBZPG3', 2), ('ARTA78TP6H73D', 2), ('A2X6J6AFLLYVXH', 2), ('A1AEPMPA12GUJ7', 2), ('A17NX7T7DW6KL2', 2), ('A23DFB8IUTIZM0', 2), ('A2JHHYYOOO4DS6', 2), ('A1S52XH2CS4Y26', 2), ('A3KMYHC1E69P32', 2), ('A23J1T7UNX14TK', 2), ('A235NA61RC6YC1', 2), ('A1AHHYZZVWML3Z', 2), ('A2ZHSXTQO831OS', 2), ('A1XJOSJN6FHFO0', 2), ('A3IR834T7AROBT', 11), ('A3D0HMC6RQT0N0', 2), ('A3E7YWI8VV7VCV', 2), ('A2I98OOPNIJNYY', 2), ('A3FC9JXTCITVFC', 2), ('A20VX7F4164FVC', 2), ('A2KUUIJ52MWDAS', 2), ('A2V5R832QCSOMX', 2), ('ALDYWG0CPSYUF', 2), ('AJV985MKGCIQ0', 2), ('A1RG4WKNMPYS4X', 2), ('AK7CAW3N1XZV6', 2), ('A4QXTN3K865NR', 2), ('A30FG2KXHTRPK8', 2), ('A15J71JLC29KPW', 2), ('A5EXE3DORR8Y0', 2), ('A1ER5AYS3FQ9O3', 2), ('A1YFDTLGCL9BRO', 2), ('A319LY5ILYVA90', 2), ('A11EIDY6DD40CS', 2), ('A1HM4GGGNKZ37B', 2), ('A89ZZKNDFQH23', 2), ('APDPA11IZPYLN', 2), ('A1RHE0EI5GQM66', 2), ('APXQHFTTYERDE', 2), ('A2F6NONFUDB6UK', 2), ('A32O98PFC3OP7K', 2), ('APBDZ88BBTN4F', 2), ('A2KHG3JOFXQ4CE', 2), ('A4NXA2IJNE10H', 2), ('A3MFU0GVZUVH3K', 2), ('A11T807LX2EF00', 2), ('ACXA6FG82TE4F', 2), ('A167KPMW1NBZJW', 2), ('A2D7X9N3IV3S7B', 2), ('A3I2XRSKNKDVWA', 2), ('A209G57KXCBF4C', 2), ('A1WNR7Y56L7Z0P', 4), ('A1J58X3WYJ1MVE', 4), ('AZZHZZMH3U1VB', 4), ('AINUV6DVXMKEM', 4), ('ASBY5EPXKYETU', 4), ('A83QO5LXJHCZB', 4), ('A96OL1DZWD10A', 4), ('A1JVFV1VAA08X', 4), ('A14AVORI0UL7A6', 4), ('A1ZU446KQF6T52', 6), ('ATJKA4JRNZKLT', 6), ('A1XW1F6IH6U63Q', 2), ('A1M54RKARXK8DU', 2), ('A3JOJ738Q9VSZN', 2), ('A1F5900O5Z9PKQ', 1), ('A155904W2BPBQB', 1), ('A3R9P241ZX3NNY', 2), ('A2SPRQAVJ8TTAM', 2), ('AZB6ST7V12E6P', 2), ('A1KZMBJMEOG27Y', 2), ('A3DRMWICV8EU16', 9), ('A2Q3D0OM8JNJNG', 9), ('AYHH3IL637HZJ', 9), ('AB314H3A49TM9', 9), ('AT8JX7T3CKJKO', 9), ('A1D1UB7995POKS', 9), ('A2FIC05DY3HT7J', 9), ('A2LCJO2VEPDZXW', 9), ('A2H74FIBDN5NMR', 18), ('A2ARL5R5P6EL7D', 9), ('A2Q8K6RAHF7L24', 9), ('ALMBZNEFJT6VZ', 9), ('A1M1EPWQS8LWQY', 9), ('A3GXD534HVVBYM', 9), ('A222AGYJ4N33F7', 9), ('A2BUR03REASIKQ', 9), ('A3SFS8R1T6JJM9', 9), ('AQQ79QLD9K4OF', 9), ('A2NX8LSYRITNZ8', 9), ('A2YDF9ZS4D9XLU', 9), ('A35R32TA60XD57', 9), ('A3LZCRW9NU0327', 9), ('A39KT4ATF5Q9UB', 9), ('AQQLWCMRNDFGI', 9), ('AWSK1ZAEU1KFL', 4), ('A3MC5DQ4LXYCTI', 4), ('A1QE42IUXDPTU4', 4), ('A2B7T28EARM3KA', 1), ('A38WPIU8HZDZ', 3), ('A2GHF7NUPOGKAT', 3), ('A1WDGE5JMVSEIW', 3), ('A2XRMQA6PJ5ZJ8', 3), ('AN979WZ568YNW', 3), ('ASYYZ9SV3MWIE', 3), ('AME4XNLE0U5SP', 1), ('AKSSHPJ1CRKZ5', 1), ('A39MQ3DXA9QRN', 7), ('A28ALECV0HN4YR', 7), ('A2SEHQ8ANC5ILZ', 1), ('A20FQULBVVWA8B', 14), ('A3RMGIKUWGPZOK', 14), ('A3PM9DMVYG9HDK', 14), ('A3TA1UJWRJF9NC', 14), ('A2FVD05Z2FYW1P', 14), ('A2OL5WLCNZVD9K', 14), ('A2Y0FKOY6WE0NQ', 14), ('A1J5HHOPXZ6UNF', 14), ('A4JS8BC0B8Z65', 14), ('A23X7VNNUT63TJ', 14), ('A980GTCTAJ96E', 14), ('A1EP7ITUDTNXC6', 14), ('A2OR94VN7XQCUO', 14), ('A4FTSKM6P1JOW', 14), ('A265Z64JO5KNSH', 14), ('AXRV07XDS6V89', 14), ('A1QTPS4ASOX4FV', 14), ('A30YI6DATYYVVX', 14), ('A2JZVE0Y19VLL0', 14), ('A29BWC41573AF8', 14), ('A3JRKGMYF3F09Z', 1), ('AGKK29V8CBSCO', 3), ('A2B1RFP7BRMW2V', 3), ('A3LMJT32KS0Q05', 3), ('A2WZIM8F1BF8QX', 3), ('A89SUO04NLQTD', 1), ('A3PVZ88QFQA6J6', 1), ('A2PAKPPJ37R56O', 1), ('A1CK65RE5HEHE8', 1), ('ANNSIVNKX5RHF', 1), ('A18RNGL245SFS0', 1), ('A2UEYDQ3VZNBF', 1), ('A2VT1J06V4622K', 1), ('A145QYENXQQA8Z', 1), ('A17BUUBOU0598B', 1), ('A2SXOR5876TDLW', 1), ('A2DU9MAU2P97FR', 12), ('A26N3GLFUNS4NL', 6), ('A29QAGKTHZHPLM', 6), ('A3U1ML63P0OFRI', 6), ('A1HY9PBN9BOJIW', 6), ('A1YBSR3ZGBJ8J2', 1), ('A3L0KNOIXBZ3UT', 1), ('A31M5CKD4336M3', 1), ('A3BH49ZKESHDID', 1), ('A15CUV55M506YX', 1), ('A3I2DCP4K7B7ZJ', 1), ('A3OTHWG8LLCLMU', 1), ('AUX7UHYY6GF3S', 1), ('A1UK936HX3BZQR', 1), ('AA5C0W51O2DIV', 1), ('A3J3CDYXQ60Q48', 1), ('A22KMCKYE5KQ2X', 1), ('AXHM8LP1BQGLN', 1), ('A16UV7Q2WN53G8', 1), ('A1ABDQ02BCIGYQ', 1), ('A2RERXI7RH3CIA', 1), ('A13WUIX1MPBB71', 1), ('A3H6NNGCINPLEC', 1), ('A2C7JCEMC340DO', 1), ('A1AKW788238PWQ', 1), ('A1AGQ15PU9MHLS', 1), ('A1OJXGNKA0QGUW', 1), ('AMRMK86X3PKXD', 1), ('A2JMQCGWFQFR9X', 1), ('ALPHA4LOR9MAL', 1), ('AVJFKW0IFCLT6', 1), ('A2TTCSDB4YUAXG', 1), ('A3O1I3KB7L1R9S', 3), ('A487QM1Z56KQJ', 3), ('A2KZMB70YJARSD', 3), ('A3JXSK9WWJU7RT', 3), ('AGKAZN550SIKA', 3), ('AP6VFQES99HAY', 3), ('A3T8D6LRS3PWFF', 2), ('A58F10T4OE58C', 2), ('A7S83KW2BH20D', 2), ('A2VHCA21QKNEKE', 2), ('A2SLX6UHHYCMCV', 2), ('A33PBU9EHZ28PC', 2), ('A1OTYEK0MTBZ83', 2), ('A1GWPAZBGMUAFJ', 2), ('A3H7NPNDMGLOU4', 2), ('A1H5WDTJS8XETV', 2), ('A1B6O7SAIYG2N0', 2), ('A35JP8KSV9281K', 2), ('A1VJ7HYM1EC94M', 2), ('A1TXPWO46J0PPQ', 2), ('A2CT2SA6KFE8GC', 2), ('ASD7LAINVLNHC', 2), ('A3FD3BHIUYIFPD', 2), ('A3VYKXHQDICC6', 2), ('A2ZKF3UU1TF14L', 2), ('A7T1NIWZHTC4P', 2), ('A2X61KKXXR6WNP', 2), ('A11LNPG39A2ZV4', 2), ('A1S7BFT0HDF3HA', 2), ('ATNKYANM0VC5', 2), ('AZ515FFZ7I2P7', 2), ('A141W8WHW9AC3H', 2), ('A1YCQHS3N8E8UE', 2), ('A250AXLRBVYKB4', 2), ('AMYTL79JMGQ6D', 2), ('A1ZO9D554VQO9F', 2), ('A3T4OHEAHOJ700', 4), ('ACJ9N7ED37HXS', 2), ('A26TYDQ2BFD4EG', 2), ('A336FE20YZZL3A', 2), ('A1ZOIGQHW7FPT2', 2), ('ACL0T7X1THPAV', 2), ('A3W4D8XOGLWUN5', 2), ('A1NN8Q1DLAYPGH', 2), ('A3436BWMMFP4VY', 2), ('A2ZJDGVJ45AR5W', 2), ('A1H7Y5XKPGT0OS', 2), ('AMPTUVYLEH4T8', 2), ('AVFJ327UXPXLF', 2), ('A3GRN6J64F2C3X', 2), ('A15LK8DSFQZZ52', 2), ('A3RZOPQ42Q50B1', 2), ('A1S27P7KJO9I96', 2), ('AI5OS4RQQIUMJ', 2), ('A1ITRGMT80D5TK', 2), ('AL5RP8DS1NUV3', 2), ('A2F540P3L6P5CL', 2), ('A1ILWPH1GHUXE2', 2), ('A2RKI7RPP5CJMG', 2), ('A30UIZJMFL9PLT', 2), ('A140ICK18NAAYR', 2), ('AGZK126DNQ2FN', 2), ('A1R1BFJCMWX0Y3', 2), ('A1LAGS8H4A2DR7', 2), ('A2GANR9I6XHTU9', 3), ('A14N6TJRP83FCE', 2), ('AYHPSOGPXD1UP', 2), ('AXELK3BGKRSP2', 2), ('A122SFGLAHQLSJ', 2), ('A14A0PZE10ZPGH', 2), ('AKPLX8BPYR43I', 2), ('A3DO6BVORTUBRA', 4), ('A2U1YLSCMQLKHA', 4), ('A271GZXP1I9GC9', 4), ('A33NXNZ79H5K51', 6), ('A1O1WC28TJ38SK', 6), ('AYRS87PMQYEDR', 2), ('A1SU0QPW8RFZ3M', 2), ('A1C7110M2CUH2P', 2), ('AJXVOY9PS5UUP', 11), ('A17AY4H99DHFZ9', 2), ('A2MJKGTVJYFLJN', 1), ('ABOPZJNQ5S7XF', 1), ('A1UJIGJA59RVNL', 1), ('A3QG1KCB8HB5AQ', 1), ('A2ZYCEDWBRTA3Z', 1), ('A3AQ66OXI5AFN4', 1), ('A1YKTGDWITQPM2', 1), ('A3IFBCOVNLIWHN', 1), ('A25QTYQ87LUHLW', 2), ('A2AQ5PFYCXWN0S', 2), ('A6AXLQZNQ26G4', 2), ('A1ARSBVSFZZ3DZ', 2), ('A30955PRHVAHQF', 2), ('AU82LJJJ1KYXX', 9), ('A2LNPSDCRPQ1DW', 9), ('A1URVJ70108OZG', 9), ('A1CPUVKY7OP4V8', 9), ('A1574S23MT2UXT', 9), ('A1PTWKRXLBKB0Z', 9), ('A145SYEZUUI61I', 9), ('A2K3J2X8KDY47N', 9), ('A1Z94P94HPWOU0', 9), ('A3D4W0Z1B4P2Q0', 9), ('A1MJFZ975LIEHE', 9), ('AD2QRU9ZXBQZ1', 9), ('A29BHW9YT2FZ77', 18), ('AWB6OLPRMCLDM', 9), ('A28R88QFHN203B', 9), ('A18A5GW4IE1XPU', 9), ('A1SEWF8U8W31VG', 9), ('A2L7M1TT7T843O', 9), ('A1QHJCHVHQAP4I', 9), ('A38K5QB8US44IO', 4), ('A2RPXZISBGXDBK', 4), ('A2XMR94M1EKLUT', 4), ('A15LCHB30J5F8P', 4), ('A5X566NLPSWYL', 4), ('A2WZ29MQGIE1I8', 4), ('A38RW30GMU05JD', 4), ('A10FJGRMOTJ35Y', 4), ('A2XIMR0XPS91PY', 3), ('A7Y6AVS576M03', 3), ('ABNGXUZB04PON', 1), ('A12CPPY9OIRRK2', 1), ('A3BC0A9DCELDUE', 7), ('A18XPD5BM4U6B1', 7), ('A2FO40PQHVG7L6', 7), ('A35XQBEXZND824', 7), ('A1YBN8NAJMU2DD', 7), ('A5H3HFA0CVF1Y', 7), ('A1FNMIMO8J53ZC', 1), ('A2TMSO255FQBBU', 14), ('A1LA5T5SXLGFZQ', 14), ('A2YKWYC3WQJX5J', 14), ('ABCXJIXC6Q6EB', 14), ('A2PYL0PSX5MQYQ', 14), ('A28HKCWJ7YF2AI', 14), ('A2B7U19UM1G1BC', 14), ('A1SAD4PU9PW1ST', 14), ('AGBM0KSDNT601', 14), ('A19ZK2D5664XKL', 14), ('AJE5S2MH4SERA', 14), ('A23QVYY2D42PDZ', 1), ('A1J79CHIUWTEB4', 3), ('A1MDBRM7OC06RE', 3), ('AIVUL4BHHPXDJ', 3), ('A2W9KJ1KFE7HGI', 1), ('A2ZXL5DV5MBDMN', 1), ('A2NZWVNYUBU87N', 1), ('A3ONXH9YQFNV2N', 1), ('AEY2078LH629S', 1), ('A2NC1D4847PA76', 1), ('A30FU84A345TN2', 1), ('A2W6V20RXFIJHB', 1), ('AXXUMY32C0OJ0', 1), ('A30ARMF3JEKEJY', 6), ('A3L6MXFVGLIUS9', 6), ('A1PX42ULRUW8PC', 1), ('A113IIYOI3K46Y', 2), ('A1QW493769U2JI', 1), ('AYBYYDVV5ABJE', 1), ('AUALT8PISBSJ7', 1), ('A3610U4ZX0GMEK', 1), ('A1P6G2816YG10Q', 1), ('A4MJTEG58ZOQ2', 1), ('A12E2S5WR62RGB', 1), ('A41MO185QZSEH', 1), ('A17HMM1M7T9PJ1', 1), ('A1OZ9S0EFPSK22', 1), ('ARAHDHUK75D4G', 1), ('A8M23J04VHL9Z', 1), ('A1UO6YJ0MDMTON', 1), ('A2E0GC83ZAWWXO', 1), ('A3TU3W5ZFTRAPL', 1), ('A1FTPOW4Z1WHD3', 1), ('AH20VEP6185BN', 1), ('A2XHYS89Y9U3MR', 1), ('A3D6ISQE25MT9M', 1), ('A3B8CF4V636M8U', 1), ('A2SCL3FSG8EBA4', 1), ('AZ8103B9ORM9W', 1), ('AN31LB1YL4311', 1), ('A1QCKD3J6WB8JJ', 1), ('A1X1IPQ1XQY85J', 1), ('A1QX507P2JAKF5', 1), ('ADQVVS74BNL41', 1), ('A14Q5D3QYA8FPV', 1), ('A10DET5CP2SBMB', 1), ('A10EIZ2G2OCI0J', 1), ('A3AZI828WJN1CD', 5), ('A8ITT2TI2MI0X', 3), ('A2TJG4N8LNJW23', 9), ('A2M98NPVGQX2GK', 3), ('A4IYV8URADHYS', 3), ('A2LCOP87YZSFJG', 3), ('A18K14K26PMZTF', 3), ('A15WR69VD5E5I1', 3), ('AVU1ILDDYW301', 2), ('A2X3L31KCXBHCL', 2), ('A183YP9IX7UFSY', 2), ('A20H1M28WLI9J2', 2), ('A34DQINHT6NYJU', 2), ('A27X7XXOKMK879', 2), ('A1L20MX19ZMNW5', 2), ('A3ANETCTMAN1NP', 2), ('A3R1WFO4KIUQXZ', 2), ('A2UYWE97KME0M', 2), ('A3HPCRD9RX351S', 2), ('A3PE884TA8529G', 2), ('A224KM22RQ5CD4', 2), ('A3FQZH8PJB535A', 2), ('ATT7WSCKBHVCZ', 2), ('APP5MBH2BSX6I', 2), ('A2MZXLN9TLP1R4', 2), ('AW3VZ5O895LRK', 2), ('A2CZPM110DW516', 2), ('A3FA9MUYT5D2C8', 2), ('A45S6D1P309G9', 2), ('A1J3T2AHYBSRBI', 2), ('A3G007LQX6KGOD', 2), ('A2ZY49IDE6TY5I', 2), ('A2LF16F0KX9L7P', 2), ('AQ3IN3MRXQ5KH', 2), ('A3EXWV8FNSSFL6', 2), ('A2L1KC5CTPF9UD', 2), ('A31RULW0KNYJ5H', 2), ('AR1T36GLLAFFX', 2), ('A13U975DFXBU44', 2), ('A33B3XCIXB4ZVG', 2), ('A1WKQ94M45D8MG', 2), ('AGJRUK27RBVYS', 2), ('A5KMMY627T3W', 3), ('A2D66KSHQQHOSD', 2), ('A28WXDXJA1P0MC', 2), ('AJJQ0A2XEZS8Y', 2), ('A313H6238N589', 2), ('A186ZAYP2L4CDZ', 2), ('A3T7XVG3AXJF61', 2), ('A2ZL07Y7FE7W3S', 2), ('AYWUHB7N8XGZQ', 2), ('A1MDDJ2XUPZZOE', 2), ('A3MEMX0XF00TBD', 2), ('A1EF5ODLYYMZIU', 2), ('A1A535TCGNMVPI', 2), ('AX3T81AX775G3', 2), ('AP4UAOY90P11K', 2), ('A2XAGN52M9R30Y', 4), ('AB7MNQT4SR5L5', 4), ('A37YG52WY9672Z', 4), ('AB8PM1TC01LDY', 4), ('A2708XMGVXIHJ4', 4), ('A3RWSYNSZX7KQQ', 6), ('A3IPK8TFSKY2EB', 6), ('A2I4R9SWLWZQHQ', 6), ('A1C39HBII6053M', 2), ('A3CVK075Q89BPI', 1), ('A2XNOB1T796Y6B', 1), ('ASHW4XNRIEGG5', 2), ('A2OLWGH8ZBOPEM', 2), ('A1VGXHHR08G044', 2), ('A2FBHCHCI03F3L', 2), ('A3LHXT1TZ1ZYOW', 9), ('A1UCF02ZD1ML5M', 9), ('A2ZOVHKYDH4UOJ', 9), ('AQMVY521YJDBE', 9), ('AVWTLFMCTFKW1', 9), ('A24B9YQ1YWFHLF', 9), ('AP1H1S9VPE0T7', 9), ('A3Q81K6UMFHEQ2', 9), ('ABQN42N7ICNZQ', 18), ('A25UTJ1AXFC0Z9', 9), ('A3KQVZ95S7AX0P', 9), ('A37FXNMMRY5YN6', 9), ('A853R31RZEA9A', 9), ('ATXHMAP3ED09F', 9), ('A1H703P9ALYVM6', 9), ('A15281ZG5VT4GA', 9), ('A3CTXFPNJCCUVO', 9), ('A10H24TDLK2VDP', 9), ('A3NVNHJ1SJW080', 9), ('A1CSRU8Z5KIPV6', 9), ('A1XAUZ08A5EXJA', 18), ('AIZYCHYIMOATA', 4), ('A1K0I8P1BKBFO1', 4), ('A2ZRKDO53KDDTJ', 4), ('A2BO1JQDMBQH0B', 4), ('A741AL27RBYQJ', 4), ('A7RL3ZKF24DAM', 4), ('A3ULV0S89EMBXX', 4), ('A3LCLK1LXM483G', 1), ('A3HM6TNYB7FNDL', 3), ('A3HGQNTHWUCL93', 3), ('AAR4GSQH9FR8Q', 3), ('A2FWA1B087BULH', 3), ('A18LN2FR7EHDYM', 3), ('A2BKPCWX89ZMJG', 1), ('A22MB2AA9MF6H2', 1), ('A2ARW8UWGXQO33', 7), ('A317SV5PMCQ2PH', 7), ('ANWFMAB3EOVAA', 7), ('A2N3TWRCHCH0UI', 7), ('A7363DMO16VKJ', 7), ('AZE0EQEBAS5F5', 7), ('AYJBQXK46DIFA', 7), ('A3GO0OFL7XKLQU', 7), ('A24ZV048V7J0MT', 14), ('A1LFB8KRBI9IE2', 14), ('A3NXBP212KFH5X', 14), ('A20ORC60J05BP3', 14), ('A3MTY0ZE9WYJHL', 14), ('A3M2VGWFJGRUOH', 14), ('A1IVFBJA9KAI1M', 14), ('A2ZJ8YTXZ3KZVH', 14), ('A1BK792ZT0XRPM', 14), ('A142JHB7B16OVD', 14), ('A2FTGWMYLP4M8U', 14), ('A29B5X3L5G0S6Q', 14), ('AYWYWW2MD28T8', 14), ('AZOYVQTM4DWAX', 14), ('A2KKY9CYTB7PK2', 1), ('AG08SJC4G3PY', 3), ('A1JJRPU6X233G1', 3), ('A2PT04GOWS4KPO', 3), ('A2EY9G9JPUQNEW', 1), ('AI8EMB0HUC6Z5', 1), ('A1UR4090J4T2HW', 1), ('A1IDD4DGNZMACS', 1), ('ATOYDAVYCK23O', 1), ('A36P3YDW7AOBVC', 1), ('A3KDO3XV0MK1GX', 1), ('AJCK6OKNWGIYG', 6), ('A1F5774CLZ85CO', 6), ('A1B9DC3S8N0PLM', 6), ('A1SG2JGJ8ZOR69', 6), ('A215RRZ5QTE4YB', 1), ('A22CW0ZHY3NJH8', 2), ('A3L1M0TJ2I384', 1), ('A3ECISP7MMA0YP', 1), ('A21ET4OWCZDKI6', 1), ('A2AG9IOX83IUJG', 1), ('A33GMG55GSS8EM', 1), ('A1U1HFS8CMD7ET', 1), ('A1CFQBMN5T4H1J', 1), ('A30B4715FFDCIO', 1), ('A1810IBMJ6VO1O', 1), ('A3A8S3C9FHPY3N', 1), ('A1XKAAHB53RIK9', 1), ('A42TAR55F3LTS', 1), ('A10L3FGKUHCANR', 1), ('AR4GVRPKO4MBL', 1), ('A39OJ4RS3HMT1E', 1), ('ALDYVPJB1J69N', 1), ('A10ELQQ8Z3M0BL', 1), ('A2KHEROAH6XIAQ', 1), ('A5C0O9MN444QQ', 1), ('A1RZ4VH27NLDGS', 1), ('A8QAS2523YIUV', 1), ('A13EQE9EY2ET93', 1), ('A383W35H9JN1IL', 1), ('A3QA0BBQW08DLZ', 1), ('A37C37WKS7MHRH', 1), ('A2XT0LCY1DCIV8', 1), ('A29WOWF7GNCTBR', 1), ('A3OXHLG6DIBRW8', 1), ('A1NRLM4MXLAVCC', 1), ('A2VQJ6PZFEU0B4', 1), ('A3CTZQ72ZNBEYM', 1), ('AJFURVZ5J382E', 1), ('A2VMT89TCSF105', 1), ('AP706NT8H7J4K', 1), ('AP2NX17IS4661', 5), ('ADUEU4PTGT7L4', 3), ('A1Z20CMOWLJ8I1', 3), ('A2UKWK12MEF1RE', 3), ('AZG9NISRWJB6F', 3), ('A30VFVQ1PX5FTR', 3), ('A1U4B3ZM2YVTK9', 3), ('A3N7T3Q56NR6UG', 3), ('A2491PZ4O3IRRE', 3), ('A34Q9ELBWNHOEK', 3), ('A382TASR3P6LTR', 3), ('ABSNCMS95X3PW', 2), ('ACR97GEVX7MY', 2), ('A1BA72K4VK1UN1', 2), ('AX81N1I5ZFS87', 2), ('A2NMQWBDWT3SQF', 2), ('A2XPK6XCL0UH1S', 2), ('A3Y0IB3VYLD6A', 2), ('A3CNJR9MD5BFKL', 2), ('A2LIPLT5LJTN5B', 2), ('A26MBVPPXZN1YM', 2), ('A11QUNPSCNHY62', 2), ('A1CFU5XJXN3PV4', 2), ('AM004PHO6F3FZ', 2), ('A1004703RC79J9', 2), ('A2MVPY9XVYST9H', 2), ('A20J0NBT6FWXXM', 2), ('A70NFM6KHU24F', 2), ('A379DLIAF0MFM5', 2), ('A1C139F5C7Y38P', 2), ('AYGEP8I4BQ3CK', 2), ('A2KBFB6A2D7PNO', 2), ('A57Q87B0TC9IJ', 2), ('A2GOHBNQ58WOKC', 2), ('A3NOBH42C7UI5M', 2), ('A1IA0O3OYQO9LV', 2), ('A3O8Z6IZ0VU3BB', 2), ('AC4XV78EJG1QB', 2), ('A2CV33795L4KHH', 2), ('A1DRM3JV6T5O6P', 2), ('A24F1UX8ZT5IXY', 2), ('A3F3B1JPACN215', 2), ('ALSAOZ1V546VT', 2), ('A37DXIENIDHTVY', 2), ('A3OXM4NUGQKIQ0', 2), ('A33PVCHCQ2BTN0', 2), ('A1X2B7H1P11DXH', 2), ('A1ACM1CBGORBN1', 2), ('A11EXFO14WEJM1', 2), ('A1ZGXZW37JEZWH', 2), ('A30IP3E4MDQ36', 2), ('A192Z1UVDNK88E', 2), ('A2BN9DIBP9A0XG', 2), ('A3EJ8XHVDC0CWH', 2), ('AWPODHOB4GFWL', 2), ('A2ZPZM9RE08JXF', 2), ('AOM63D4VL32WM', 2), ('A37RIRXE3WECZ', 2), ('A8WRN6S6XGAG9', 3), ('A27HB4L3I1WJUR', 2), ('A2DG63DN704LOI', 2), ('A1HUPQBIXPAZ9I', 2), ('A3G2PUQ455XMXJ', 2), ('A2P6KAWXJ16234', 2), ('A87RT63V7SMD3', 2), ('A32GK89C999834', 2), ('ABIXKV6USOPKS', 2), ('A3I8EAFM9XGMMG', 4), ('A1BJHZE41QWBX6', 4), ('A1SXHGINVLL3AL', 4), ('A32I0TYSS7I1RB', 4), ('A2MCOA07G0J9SA', 4), ('AEVJIK8MCL9ZO', 4), ('A3KLAK8EM3YWWZ', 4), ('AS7LUSEFZBVJM', 4), ('AJ1H90XS8PLXN', 4), ('A1B6I5FLWX64R8', 6), ('A3KKRYTAW6CRTI', 6), ('A38BYWOGTD27NB', 6), ('A3SA4CWBLV79N9', 6), ('A27PKE65KFRHJV', 6), ('A1BL1T22XX9CMD', 6), ('A1S7ELUTF3JFE8', 6), ('A1WQ82GSABUJJJ', 9), ('AVDCTS5K9PSB2', 6), ('A7ZPHAP30XQA9', 2), ('A1IBEZAITTMEJF', 2), ('A1FBLZNSTYHU1L', 2), ('A2RGRFQXG9O3G0', 1), ('A26PQCX52S0ZMZ', 1), ('A2MEC0T7Q65C7S', 2), ('A3H3OCVPFCC6EF', 2), ('A10ZO29UT3VZNV', 2), ('A148IB4VEE6FRH', 2), ('A1L62HGC55VLF5', 2), ('A2QV4MBIPQUVUX', 2), ('A3L3FI1Z45ST11', 2), ('A1OI591Q6AO3WV', 2), ('A1MAFUH2FA4KWR', 2), ('A2ZDOLIADXFMZX', 9), ('A5CEPNXXOSOSJ', 9), ('A3LUQ5KJW9WA14', 9), ('A16SLC7GSYNE12', 9), ('A1T8LRGWQ6QM7Z', 9), ('A307QOFD9Q7RKQ', 9), ('A1RU1BKXAVU488', 9), ('A24R6COJQHP4DL', 9), ('A2V7T3C2T2RVPH', 9), ('A1SZ17MY9XG6KD', 9), ('A20JB7C7735475', 9), ('A1WW2AS8M640IL', 9), ('A1GDFWGKJARI4M', 18), ('A1D3S3KH6T7206', 9), ('A3UROAHZHOIMTR', 9), ('A3K0OWGS5G12L4', 9), ('A230IB6KZBNHZY', 9), ('A1F5ZNMJV28M6X', 9), ('A1PMJ9FR4X1CP4', 9), ('AHTACNRCJ00CG', 9), ('A16K66OVVFCCBD', 9), ('A27P22K84E0A5X', 1), ('A3ARWFYKUYYBAO', 1), ('A1P6Y1PWU9SP1L', 4), ('AP7M4TPRW173C', 4), ('AYO6V1ACI0YAT', 4), ('A2V1J3JT5OOZFO', 4), ('A1CKAF9L5DVLW7', 4), ('A1791MP380S5YB', 1), ('A5U1NT59XC6CA', 1), ('A220R3YGCKPTBH', 10), ('AYH8K5A9NPMNN', 3), ('A2CH00OW75H2OL', 3), ('A1XBX7SR6PQZ1P', 3), ('A4XF0Z4VW0QBP', 3), ('A2IMTQLJ1NBSD1', 3), ('A3J643OHZM4GN6', 1), ('A3P55S19DXG8UU', 1), ('A1KDYZH79Y0I08', 7), ('A11PY6CDF37TDP', 7), ('ANPIA442LC7N3', 7), ('A4BU0TXFL4271', 7), ('A2JCTH2LDJ3K4C', 7), ('A2R62M0NK9GHLW', 7), ('A3ITQNCEW4CFE', 7), ('A3RO3CGZ9MWA1I', 14), ('A1GV4HEM6XZC06', 14), ('A1I29JSIGJNWKH', 14), ('AXNDMH5GK99G7', 14), ('A3USLEWTJFPR55', 14), ('A16KK3YHCWE29C', 14), ('A2YLM03QVX7H8O', 14), ('A27RA84D66WW8A', 14), ('A3LBKH53BK4VVW', 14), ('A2A8KWCE8RKB9T', 14), ('A348IT6M7H8A67', 14), ('A265ZSAY8QSRZN', 1), ('AI4CDBHHOX3ED', 3), ('A1UBSC80601DN1', 3), ('A2EG72NLGU0THH', 3), ('A3I026QO4V5ADY', 3), ('A2FVF8Z9N8WQT9', 1), ('A2T13LMB2EM9L5', 1), ('A3OP6FC76PYPJ7', 1), ('A51O8S0HDXOK3', 1), ('A3RSXWSNTJ78Z4', 1), ('A19RRTKHBS1MY7', 2), ('A2HLL8L5QELLLO', 1), ('APNU3MWEZH45B', 1), ('A1ZSISTUHC1K41', 1), ('A2F0GAIX06301N', 1), ('A21148I8NVA35K', 6), ('A3GW73OTA6TS', 6), ('A2B5OI74EHGVH1', 6), ('A2DVFHG099GUGE', 1), ('A3V1RPFR969KMM', 2), ('A2ADC9XMNOO6G1', 1), ('AV8EBYXTLMWK', 1), ('AVZB9SGVE1APF', 1), ('AQX1N6A51QOKG', 1), ('A3OQJ9N1M2A74J', 1), ('A2DYNNCDRYULM7', 1), ('A1A5E5KP4TN7V', 1), ('A1CXYL8AYKT91Q', 1), ('A2LK4FL75C2P9G', 1), ('A2ZRIDGW4S2OLD', 1), ('A2MGN5UJVWUYII', 1), ('A34EPHORR7MQH4', 1), ('A27KZJNM1CGV69', 1), ('A2E5RET3T9PNEO', 1), ('A2GAWJBLQTHMD', 1), ('A369D4HXAVASS6', 1), ('A3EZDGX88OII4K', 1), ('A2JWLOEUH805YS', 1), ('A2QS3219ZPUWIZ', 1), ('AH4ZUC0GRURHY', 1), ('A12EF0UWQ0FP2I', 1), ('A5Z9TVJVEBVFP', 1), ('A1I34XDNAA8IUE', 1), ('A29TROK8TBW1A1', 1), ('A1CRU2RDZ9YNHY', 1), ('A2V7J2IO5L1XXA', 1), ('A2I053V8LNTPP4', 1), ('A31F1HON2R8FV7', 1), ('A18TJ0TDVUG8KX', 1), ('A10BK26EN1YSZT', 1), ('A1O0JH4DF6J0G6', 1)]\n",
            "\n",
            "A3CCKBF8HLSGP1,[('A1CA6V1GE04NDK', 3), ('A2MN1QBKMG8DJ2', 3), ('ADUEU4PTGT7L4', 3), ('A2MP7KWDQ2JVT', 3), ('A2LQ494BOMR72G', 3), ('A2KZMB70YJARSD', 3), ('A107SVKYGPGBPP', 3), ('A2VANMJUVLOE4B', 3), ('A382TASR3P6LTR', 3), ('A36RD36M6VL3JT', 3), ('A1ACXZOUVYS3T5', 3), ('AZG9NISRWJB6F', 3), ('A1K8B2QIQ3ZRWA', 3), ('A2AM935YUELTVQ', 3), ('A2LCOP87YZSFJG', 3), ('A2491PZ4O3IRRE', 3), ('AP6VFQES99HAY', 3), ('A1R7E9MD733HX', 3), ('A1HYMQV1Z5GLGD', 3), ('AJDUX0U4JGMY7', 3), ('A3KCWQMEOLRC2U', 3), ('A3MYNUIK9ZZHHZ', 3), ('AP4N2279BZFG2', 3), ('A18K14K26PMZTF', 3), ('A1GLL2VDHUWP5O', 3), ('A33OK99AQT4864', 3), ('A16TMLWXLBCLLZ', 3), ('A18S1559XJID18', 3), ('A1Z20CMOWLJ8I1', 3), ('A8OHJUH0WSPVI', 3), ('A3JXSK9WWJU7RT', 3), ('A288G5GZV0A3PN', 3), ('A3ARWF586TVLWB', 3), ('A1857CFZ2N5LWG', 3), ('A3O1I3KB7L1R9S', 3), ('A3AZI828WJN1CD', 3), ('A311QDUHEORR5P', 3), ('AA7STIIEST2HW', 3), ('A2UKWK12MEF1RE', 3), ('AEGL3OL0L6C0B', 3), ('AVN3JX894CEZC', 3), ('A2T5PIN2V2U325', 3), ('ANF5SQBAP7GPG', 3), ('A487QM1Z56KQJ', 3), ('A1U4B3ZM2YVTK9', 3), ('A136ONZPRXT76S', 3), ('A3N7T3Q56NR6UG', 3), ('A15WR69VD5E5I1', 3), ('A14FO1VXLQ74WW', 3), ('A2TJG4N8LNJW23', 3), ('A1OZONYCJYYK1I', 3), ('APWK2EKIA0PVN', 3), ('A34Q9ELBWNHOEK', 3), ('A26NFIQ7KWI8Y7', 3), ('A8ITT2TI2MI0X', 3), ('A2LVFLPZ6EHQWR', 3), ('A2M98NPVGQX2GK', 3), ('A30VFVQ1PX5FTR', 3), ('AWIU562GSRC76', 3), ('A1O299KDNQMPDY', 3), ('A1BQDW64U8VMPW', 3), ('AGKAZN550SIKA', 3), ('A4IYV8URADHYS', 3), ('A163RZETDROJL5', 3)]\n",
            "\n",
            "ADUEU4PTGT7L4,[('A2M98NPVGQX2GK', 3), ('A3MYNUIK9ZZHHZ', 3), ('A3ARWF586TVLWB', 3), ('AEGL3OL0L6C0B', 3), ('A2VANMJUVLOE4B', 3), ('A1O299KDNQMPDY', 3), ('A136ONZPRXT76S', 3), ('A15WR69VD5E5I1', 3), ('A1HYMQV1Z5GLGD', 3), ('A2LQ494BOMR72G', 3), ('A18S1559XJID18', 3), ('A1857CFZ2N5LWG', 3), ('A2MP7KWDQ2JVT', 3), ('A30VFVQ1PX5FTR', 3), ('A3KCWQMEOLRC2U', 3), ('A4IYV8URADHYS', 3), ('A2KZMB70YJARSD', 3), ('A8OHJUH0WSPVI', 3), ('AWIU562GSRC76', 3), ('A3N7T3Q56NR6UG', 3), ('A14FO1VXLQ74WW', 3), ('A2UKWK12MEF1RE', 3), ('A487QM1Z56KQJ', 3), ('A1BQDW64U8VMPW', 3), ('A288G5GZV0A3PN', 3), ('AP4N2279BZFG2', 3), ('A2491PZ4O3IRRE', 3), ('A16TMLWXLBCLLZ', 3), ('A8ITT2TI2MI0X', 3), ('A2TJG4N8LNJW23', 3), ('A311QDUHEORR5P', 3), ('A1Z20CMOWLJ8I1', 3), ('AJDUX0U4JGMY7', 3), ('A107SVKYGPGBPP', 3), ('A2AM935YUELTVQ', 3), ('APWK2EKIA0PVN', 3), ('A2LCOP87YZSFJG', 3), ('A1R7E9MD733HX', 3), ('A2LVFLPZ6EHQWR', 3), ('AA7STIIEST2HW', 3), ('A1OZONYCJYYK1I', 3), ('ANF5SQBAP7GPG', 3), ('AZG9NISRWJB6F', 3), ('A1K8B2QIQ3ZRWA', 3), ('A1U4B3ZM2YVTK9', 3), ('AGKAZN550SIKA', 3), ('A382TASR3P6LTR', 3), ('AP6VFQES99HAY', 3), ('A18K14K26PMZTF', 3), ('A3JXSK9WWJU7RT', 3), ('A163RZETDROJL5', 3), ('AVN3JX894CEZC', 3), ('A34Q9ELBWNHOEK', 3)]\n",
            "\n",
            "A2LVFLPZ6EHQWR,[('A2M98NPVGQX2GK', 3), ('A18S1559XJID18', 3), ('A107SVKYGPGBPP', 3), ('A1U4B3ZM2YVTK9', 3), ('AWIU562GSRC76', 3), ('A3MYNUIK9ZZHHZ', 3), ('A1BQDW64U8VMPW', 3), ('A1R7E9MD733HX', 3), ('AEGL3OL0L6C0B', 3), ('APWK2EKIA0PVN', 3), ('A3ARWF586TVLWB', 3), ('A34Q9ELBWNHOEK', 3), ('A18K14K26PMZTF', 3), ('A311QDUHEORR5P', 3), ('A1OZONYCJYYK1I', 3), ('A2UKWK12MEF1RE', 3), ('AZG9NISRWJB6F', 3), ('AJDUX0U4JGMY7', 3), ('A2LCOP87YZSFJG', 3), ('A15WR69VD5E5I1', 3), ('AA7STIIEST2HW', 3), ('A2KZMB70YJARSD', 3), ('A3KCWQMEOLRC2U', 3), ('A2VANMJUVLOE4B', 3), ('A136ONZPRXT76S', 3), ('A288G5GZV0A3PN', 3), ('AGKAZN550SIKA', 3), ('A2491PZ4O3IRRE', 3), ('A382TASR3P6LTR', 3), ('ANF5SQBAP7GPG', 3), ('A487QM1Z56KQJ', 3), ('A2AM935YUELTVQ', 3), ('A1857CFZ2N5LWG', 3), ('A163RZETDROJL5', 3), ('A1O299KDNQMPDY', 3), ('A3N7T3Q56NR6UG', 3), ('A14FO1VXLQ74WW', 3), ('A1Z20CMOWLJ8I1', 3), ('A30VFVQ1PX5FTR', 3), ('A3JXSK9WWJU7RT', 3), ('A4IYV8URADHYS', 3), ('AP4N2279BZFG2', 3), ('AVN3JX894CEZC', 3), ('AP6VFQES99HAY', 3), ('A1K8B2QIQ3ZRWA', 3), ('A8OHJUH0WSPVI', 3)]\n",
            "\n",
            "A18S1559XJID18,[('A2UKWK12MEF1RE', 3), ('A487QM1Z56KQJ', 3), ('A8OHJUH0WSPVI', 3), ('A136ONZPRXT76S', 3), ('A2AM935YUELTVQ', 3), ('A163RZETDROJL5', 3), ('AWIU562GSRC76', 3), ('AGKAZN550SIKA', 3), ('A1OZONYCJYYK1I', 3), ('A107SVKYGPGBPP', 3), ('AEGL3OL0L6C0B', 3), ('AVN3JX894CEZC', 3), ('AP6VFQES99HAY', 3), ('A15WR69VD5E5I1', 3), ('A3KCWQMEOLRC2U', 3), ('A1O299KDNQMPDY', 3), ('A3N7T3Q56NR6UG', 3), ('A1857CFZ2N5LWG', 3), ('A2491PZ4O3IRRE', 3), ('A382TASR3P6LTR', 3), ('AJDUX0U4JGMY7', 3), ('A2VANMJUVLOE4B', 3), ('A288G5GZV0A3PN', 3), ('A3ARWF586TVLWB', 3), ('A1R7E9MD733HX', 3), ('AZG9NISRWJB6F', 3), ('A3JXSK9WWJU7RT', 3), ('A1U4B3ZM2YVTK9', 3), ('A3MYNUIK9ZZHHZ', 3), ('A1BQDW64U8VMPW', 3), ('A4IYV8URADHYS', 3), ('A1Z20CMOWLJ8I1', 3), ('A2LCOP87YZSFJG', 3), ('AP4N2279BZFG2', 3), ('A14FO1VXLQ74WW', 3), ('A34Q9ELBWNHOEK', 3), ('ANF5SQBAP7GPG', 3), ('A1K8B2QIQ3ZRWA', 3), ('A2KZMB70YJARSD', 3), ('APWK2EKIA0PVN', 3), ('A30VFVQ1PX5FTR', 3), ('A18K14K26PMZTF', 3)]\n",
            "\n"
          ]
        }
      ],
      "source": [
        "with open('adjList.txt','r') as f:\n",
        "    lines = f.readlines()\n",
        "\n",
        "for i in range(10):\n",
        "    print(lines[i])"
      ]
    }
  ],
  "metadata": {
    "colab": {
      "provenance": []
    },
    "kernelspec": {
      "display_name": "Python 3",
      "language": "python",
      "name": "python3"
    },
    "language_info": {
      "codemirror_mode": {
        "name": "ipython",
        "version": 3
      },
      "file_extension": ".py",
      "mimetype": "text/x-python",
      "name": "python",
      "nbconvert_exporter": "python",
      "pygments_lexer": "ipython3",
      "version": "3.10.7"
    }
  },
  "nbformat": 4,
  "nbformat_minor": 0
}
